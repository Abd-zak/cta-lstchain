{
 "cells": [
  {
   "cell_type": "markdown",
   "id": "35d072ef",
   "metadata": {},
   "source": [
    "# This example notebook on the usage of the lstchain_create_dl3_file Tool, does the following:\n",
    "## 1. Read observed DL2 file\n",
    "## 2. Use the config file to generate the event list HDUs\n",
    "## 3. Add the IRFs to the event list HDUs to create the DL3 file\n",
    "## 4. Index the DL3 files in the given folder"
   ]
  },
  {
   "cell_type": "markdown",
   "id": "25613774",
   "metadata": {},
   "source": [
    "To check the simple usage of the Tool, one can do the following in a terminal - \n",
    "$ lstchain_create_dl3_file --help\n",
    "\n",
    "or for more detailed help, \n",
    "$ lstchain_create_dl3_file --help-all\n",
    "\n",
    "Currently the Tool requires the information of the main observed source, name and RA/Dec position in degrees, to be passed as arguments, to enter source provenance information, in the final event list HDUs.\n",
    "\n",
    "One should use the same config file for event selection on the observed data, as used on the MC DL2 files for generating the IRFs, which are to be included in the final DL3 file.\n",
    "\n",
    "If one wants to use energy-dependent cuts on gammaness, the IRFs should also be produced with energy-dependent cuts, and should have the GH_CUTS HDU stored with the cuts information. The DL3 Tool will use this HDU to implement the specific cuts in the respective reco energy bin. Otherwise, the Tool will look for the global gammaness cut used in the header values of the IRF HDUs, and apply the same global gammaness cut.\n",
    "\n",
    "For sample DL2 file, one can use the file produced in the earlier session or the sample file stored at `/fefs/aswg/workspace/analysis-school-2022/src_indep/` or if the IRFs are produced using standard MC files of a particular data production, one should use the standard observed data DL2 files of the same data production\n",
    "\n",
    "For example, if one used the point gamma MC DL2 file `/fefs/aswg/data/mc/DL2/20200629_prod5_trans_80/gamma/zenith_20deg/south_pointing/20210923_v0.7.5_prod5_trans_80_dynamic_cleaning/off0.4deg/dl2_gamma_20deg_180deg_off0.4deg_20210923_v0.7.5_prod5_trans_80_dynamic_cleaning_testing.h5`,\n",
    "then one should use observed data DL2 file from `/fefs/aswg/data/real/DL2/20201120/v0.7.5_test_new_calibration_tree/tailcut84_dynamic_cleaning/`\n",
    "\n",
    "To get more explanation on the data format, check https://gamma-astro-data-formats.readthedocs.io/en/latest/index.html"
   ]
  },
  {
   "cell_type": "code",
   "execution_count": 1,
   "id": "c41975ca",
   "metadata": {},
   "outputs": [],
   "source": [
    "import numpy as np\n",
    "from pathlib import Path\n",
    "import matplotlib.pyplot as plt\n",
    "\n",
    "from traitlets.config.loader import Config\n",
    "\n",
    "from astropy.io import fits\n",
    "from astropy.coordinates import SkyCoord\n",
    "from astropy.table import QTable\n",
    "import astropy.units as u"
   ]
  },
  {
   "cell_type": "code",
   "execution_count": 2,
   "id": "c989fde3",
   "metadata": {},
   "outputs": [],
   "source": [
    "from lstchain.io.io import read_data_dl2_to_QTable\n",
    "from lstchain.reco.utils import get_effective_time\n",
    "from lstchain.paths import run_info_from_filename, dl2_to_dl3_filename\n",
    "\n",
    "from lstchain.high_level.hdu_table import (\n",
    "    create_event_list, add_icrs_position_params,\n",
    "    create_hdu_index_hdu, create_obs_index_hdu\n",
    ")\n",
    "from lstchain.io.event_selection import EventSelector, DL3Cuts\n",
    "from lstchain.io.config import read_configuration_file"
   ]
  },
  {
   "cell_type": "markdown",
   "id": "cae4306d",
   "metadata": {},
   "source": [
    "# 1. Input parameters to convert DL2 file to DL3"
   ]
  },
  {
   "cell_type": "code",
   "execution_count": 3,
   "id": "1c2564f1",
   "metadata": {},
   "outputs": [],
   "source": [
    "# Modify the paths as applicable.\n",
    "base_dir = \"/fefs/aswg/workspace/analysis-school-2022/\"\n",
    "\n",
    "dl2_dir = \"src_indep/\"\n",
    "\n",
    "input_dl2_path = base_dir + dl2_dir + \"dl2_LST-1.Run2968_first10.h5\"\n",
    "\n",
    "output_dl3_path = base_dir + dl2_dir\n",
    "\n",
    "config_file = \"../docs/examples/irf_tool_config.json\"\n",
    "\n",
    "irf_file = output_dl3_path + \"pnt_irf_pnt_gamma_en_dep_soft_cuts.fits.gz\"\n",
    "\n",
    "source_name = \"Crab\"\n",
    "source_ra = \"83.63308333deg\"\n",
    "source_dec = \"22.0145deg\"\n",
    "\n",
    "overwrite = True\n",
    "energy_dependent_gh_cuts = True "
   ]
  },
  {
   "cell_type": "raw",
   "id": "b1a15bc0",
   "metadata": {},
   "source": [
    "Same usage in the command line as,\n",
    "\n",
    "lstchain_create_dl3_file \n",
    "--input-dl2 $input_dl2_path\n",
    "--input-irf-path $irf_file\n",
    "--source-name $source_name\n",
    "--source-ra=$source_ra\n",
    "--source-dec=$source_dec\n",
    "--config $config_file\n",
    "--overwrite"
   ]
  },
  {
   "cell_type": "raw",
   "id": "ec95d46d",
   "metadata": {},
   "source": [
    "lstchain_create_dl3_index_files\n",
    "--input-dl3-dir $output_dl3_path\n",
    "--file-pattern dl3*gz\n",
    "--overwrite"
   ]
  },
  {
   "cell_type": "code",
   "execution_count": 4,
   "id": "e80dc771",
   "metadata": {},
   "outputs": [
    {
     "name": "stdout",
     "output_type": "stream",
     "text": [
      "The name of the DL3 file will be, dl3_LST-1.Run2968_first10.fits.gz\n",
      "Using the source RA and DEC values to get the source position, <SkyCoord (ICRS): (ra, dec) in deg\n",
      "    (83.63308333, 22.0145)>\n"
     ]
    }
   ],
   "source": [
    "dl3_filename = dl2_to_dl3_filename(input_dl2_path)\n",
    "source_pos = SkyCoord(ra=source_ra, dec=source_dec)\n",
    "print(\"The name of the DL3 file will be,\", dl3_filename)\n",
    "print(\"Using the source RA and DEC values to get the source position,\", source_pos)"
   ]
  },
  {
   "cell_type": "markdown",
   "id": "1e5d0365",
   "metadata": {},
   "source": [
    "# 2. Get the information of the data DL2 file"
   ]
  },
  {
   "cell_type": "code",
   "execution_count": 5,
   "id": "c7405055",
   "metadata": {},
   "outputs": [],
   "source": [
    "data = read_data_dl2_to_QTable(input_dl2_path)"
   ]
  },
  {
   "cell_type": "code",
   "execution_count": 6,
   "id": "76ed5813",
   "metadata": {},
   "outputs": [
    {
     "name": "stdout",
     "output_type": "stream",
     "text": [
      "The effective time of the run is, 96.97985761133062 s and the total elapsed time of the run is, 101.02855944633484 s\n",
      "The run number used from the DL2 file is, 2968\n"
     ]
    }
   ],
   "source": [
    "effective_time, elapsed_time = get_effective_time(data)\n",
    "run_number = run_info_from_filename(input_dl2_path)[1]\n",
    "print(\"The effective time of the run is,\",effective_time, \"and the total elapsed time of the run is,\", elapsed_time)\n",
    "print(\"The run number used from the DL2 file is,\", run_number)"
   ]
  },
  {
   "cell_type": "markdown",
   "id": "741b2a7c",
   "metadata": {},
   "source": [
    "# 3. Apply selection cuts and bin the events as per the config file"
   ]
  },
  {
   "cell_type": "code",
   "execution_count": 7,
   "id": "4b3379fa",
   "metadata": {},
   "outputs": [
    {
     "data": {
      "text/plain": [
       "{'EventSelector': {'filters': {'intensity': [100, inf],\n",
       "   'width': [0, inf],\n",
       "   'length': [0, inf],\n",
       "   'r': [0, 1],\n",
       "   'wl': [0.1, 1],\n",
       "   'leakage_intensity_width_2': [0, 0.2],\n",
       "   'event_type': [32, 32]}},\n",
       " 'DL3Cuts': {'global_gh_cut': 0.7,\n",
       "  'gh_efficiency': 0.9,\n",
       "  'global_theta_cut': 0.2,\n",
       "  'theta_containment': 0.68,\n",
       "  'allowed_tels': [1]},\n",
       " 'DataBinning': {'true_energy_min': 0.01,\n",
       "  'true_energy_max': 100,\n",
       "  'true_energy_n_bins_per_decade': 5,\n",
       "  'reco_energy_min': 0.01,\n",
       "  'reco_energy_max': 100,\n",
       "  'reco_energy_n_bins_per_decade': 5,\n",
       "  'energy_migration_min': 0.2,\n",
       "  'energy_migration_max': 5,\n",
       "  'energy_migration_n_bins': 31,\n",
       "  'fov_offset_min': 0.1,\n",
       "  'fov_offset_max': 1.1,\n",
       "  'fov_offset_n_edges': 9,\n",
       "  'bkg_fov_offset_min': 0,\n",
       "  'bkg_fov_offset_max': 10,\n",
       "  'bkg_fov_offset_n_edges': 21,\n",
       "  'source_offset_min': 0.0001,\n",
       "  'source_offset_max': 1.0001,\n",
       "  'source_offset_n_edges': 1000}}"
      ]
     },
     "execution_count": 7,
     "metadata": {},
     "output_type": "execute_result"
    }
   ],
   "source": [
    "config = Config(read_configuration_file(config_file))\n",
    "config"
   ]
  },
  {
   "cell_type": "code",
   "execution_count": 8,
   "id": "d9415237",
   "metadata": {},
   "outputs": [],
   "source": [
    "# Using the Components for the event selection and for applying some cuts\n",
    "event_sel = EventSelector(config=Config(config))\n",
    "cuts = DL3Cuts(config=Config(config))"
   ]
  },
  {
   "cell_type": "code",
   "execution_count": 9,
   "id": "c9107a69",
   "metadata": {},
   "outputs": [],
   "source": [
    "# For energy dependent cuts, one can check the cuts applied for gammaness with 2D histogram\n",
    "if energy_dependent_gh_cuts:\n",
    "    pre_cut_log_reco_data = data[\"log_reco_energy\"].value\n",
    "    pre_cut_gammaness_data = data[\"gh_score\"].value"
   ]
  },
  {
   "cell_type": "code",
   "execution_count": 10,
   "id": "4eabe9e1",
   "metadata": {},
   "outputs": [
    {
     "name": "stdout",
     "output_type": "stream",
     "text": [
      "Size of the table before the filter - 346227\n",
      "Size of the table after the filter - 186133\n"
     ]
    }
   ],
   "source": [
    "# Applying event filters to the Hillas parameters\n",
    "data_size_0 = len(data)\n",
    "print(\"Size of the table before the filter -\", len(data))\n",
    "data = event_sel.filter_cut(data)\n",
    "print(\"Size of the table after the filter -\", len(data))"
   ]
  },
  {
   "cell_type": "code",
   "execution_count": 11,
   "id": "a9e5992a",
   "metadata": {},
   "outputs": [
    {
     "name": "stdout",
     "output_type": "stream",
     "text": [
      "Size of the table before the cut - 186133\n",
      "Size of the table after the cut - 99424\n"
     ]
    }
   ],
   "source": [
    "# Applying the gammaness cut\n",
    "print(\"Size of the table before the cut -\", len(data))\n",
    "\n",
    "if energy_dependent_gh_cuts:\n",
    "    gh_cuts = QTable.read(irf_file, hdu=\"GH_CUTS\")\n",
    "    data = cuts.apply_energy_dependent_gh_cuts(\n",
    "        data, gh_cuts\n",
    "    )\n",
    "else:\n",
    "    cuts.global_gh_cut = QTable.read(irf_file, hdu=1).meta[\"GH_CUT\"]\n",
    "    data = cuts.apply_global_gh_cut(data)\n",
    "print(\"Size of the table after the cut -\", len(data))"
   ]
  },
  {
   "cell_type": "code",
   "execution_count": 12,
   "id": "b44405dd",
   "metadata": {},
   "outputs": [],
   "source": [
    "if energy_dependent_gh_cuts:\n",
    "    post_cut_log_reco_data = data[\"log_reco_energy\"].value\n",
    "    post_cut_gammaness_data = data[\"gh_score\"].value"
   ]
  },
  {
   "cell_type": "code",
   "execution_count": 13,
   "id": "20ef0f44",
   "metadata": {},
   "outputs": [
    {
     "data": {
      "text/plain": [
       "Text(0.5, 1.0, 'After cuts')"
      ]
     },
     "execution_count": 13,
     "metadata": {},
     "output_type": "execute_result"
    },
    {
     "data": {
      "image/png": "[encoded data removed]",
      "text/plain": [
       "<Figure size 1008x360 with 4 Axes>"
      ]
     },
     "metadata": {
      "needs_background": "light"
     },
     "output_type": "display_data"
    }
   ],
   "source": [
    "plt.figure(figsize=(14,5))\n",
    "plt.subplot(121)\n",
    "plt.hist2d(\n",
    "    pre_cut_log_reco_data, pre_cut_gammaness_data, \n",
    "    bins=(40,40), cmin=1, range=[[-2,1.7],[0,1]]\n",
    ")\n",
    "plt.plot(\n",
    "    np.log10(gh_cuts[\"center\"].value), gh_cuts[\"cut\"],\n",
    "    color='r'\n",
    ")\n",
    "\n",
    "plt.colorbar()\n",
    "plt.grid()\n",
    "plt.xlabel(\"Log Reco energy (TeV)\")\n",
    "plt.ylabel(\"Gammaness\")\n",
    "plt.title(\"Before cuts\")\n",
    "\n",
    "plt.subplot(122)\n",
    "plt.hist2d(\n",
    "    post_cut_log_reco_data, post_cut_gammaness_data, \n",
    "    bins=(40,40), cmin=1, range=[[-2,1.7],[0,1]]\n",
    ")\n",
    "\n",
    "plt.colorbar()\n",
    "plt.grid()\n",
    "plt.xlabel(\"Log Reco energy (TeV)\")\n",
    "plt.ylabel(\"Gammaness\")\n",
    "plt.title(\"After cuts\")"
   ]
  },
  {
   "cell_type": "markdown",
   "id": "790668f3",
   "metadata": {},
   "source": [
    "# 4. Convert the position parameters of the events in ICRS frame and add to the table"
   ]
  },
  {
   "cell_type": "code",
   "execution_count": 14,
   "id": "baba409b",
   "metadata": {},
   "outputs": [],
   "source": [
    "data = add_icrs_position_params(data, source_pos)"
   ]
  },
  {
   "cell_type": "markdown",
   "id": "d0198a13",
   "metadata": {},
   "source": [
    "# 5. Create the HDUs for the DL3 file"
   ]
  },
  {
   "cell_type": "code",
   "execution_count": 15,
   "id": "b570d0f7",
   "metadata": {},
   "outputs": [],
   "source": [
    "events, gti, pointing = create_event_list(\n",
    "    data, run_number, source_name, source_pos, effective_time.value, elapsed_time.value\n",
    ")"
   ]
  },
  {
   "cell_type": "markdown",
   "id": "803482cc",
   "metadata": {},
   "source": [
    "# 6. Add the HDUs to the final HDUList"
   ]
  },
  {
   "cell_type": "code",
   "execution_count": 16,
   "id": "af9ee4ea",
   "metadata": {},
   "outputs": [],
   "source": [
    "hdulist = fits.HDUList([fits.PrimaryHDU(), events, gti, pointing])"
   ]
  },
  {
   "cell_type": "code",
   "execution_count": 17,
   "id": "53141f02",
   "metadata": {},
   "outputs": [],
   "source": [
    "irf_hdus = fits.open(irf_file)"
   ]
  },
  {
   "cell_type": "code",
   "execution_count": 18,
   "id": "b286f8ff",
   "metadata": {},
   "outputs": [],
   "source": [
    "for irf in irf_hdus[1:]:\n",
    "    hdulist.append(irf)"
   ]
  },
  {
   "cell_type": "markdown",
   "id": "bcc42110",
   "metadata": {},
   "source": [
    "# 7. Write the HDUList to the final DL3 file"
   ]
  },
  {
   "cell_type": "code",
   "execution_count": 19,
   "id": "80bbb24d",
   "metadata": {},
   "outputs": [],
   "source": [
    "hdulist.writeto(output_dl3_path + dl3_filename, overwrite=overwrite)"
   ]
  },
  {
   "cell_type": "markdown",
   "id": "f8854e99",
   "metadata": {},
   "source": [
    "# 8. Check the DL3 fits info"
   ]
  },
  {
   "cell_type": "code",
   "execution_count": 20,
   "id": "18e06dc2",
   "metadata": {},
   "outputs": [
    {
     "name": "stdout",
     "output_type": "stream",
     "text": [
      "Filename: /fefs/aswg/workspace/analysis-school-2022/src_indep/dl3_LST-1.Run2968_first10.fits.gz\n",
      "No.    Name      Ver    Type      Cards   Dimensions   Format\n",
      "  0  PRIMARY       1 PrimaryHDU       4   ()      \n",
      "  1  EVENTS        1 BinTableHDU     76   99424R x 11C   [K, D, D, D, D, D, K, D, D, D, D]   \n",
      "  2  GTI           1 BinTableHDU     29   1R x 2C   [D, D]   \n",
      "  3  POINTING      1 BinTableHDU     41   1R x 5C   [D, D, D, D, D]   \n",
      "  4  EFFECTIVE AREA    1 BinTableHDU     43   1R x 5C   [19D, 19D, D, D, 19D]   \n",
      "  5  ENERGY DISPERSION    1 BinTableHDU     49   1R x 7C   [19D, 19D, 30D, 30D, D, D, 570D]   \n",
      "  6  BACKGROUND    1 BinTableHDU     43   1R x 5C   [19D, 19D, 20D, 20D, 380D]   \n",
      "  7  GH_CUTS       1 BinTableHDU     27   19R x 4C   [D, D, D, D]   \n",
      "  8  RAD_MAX       1 BinTableHDU     43   1R x 5C   [19D, 19D, D, D, 19D]   \n"
     ]
    }
   ],
   "source": [
    "f = fits.open(output_dl3_path + dl3_filename)\n",
    "f.info()"
   ]
  },
  {
   "cell_type": "markdown",
   "id": "00f93eaa",
   "metadata": {},
   "source": [
    "# 9. Index the DL3 files in the folder"
   ]
  },
  {
   "cell_type": "code",
   "execution_count": 21,
   "id": "9ac7d036",
   "metadata": {},
   "outputs": [
    {
     "name": "stdout",
     "output_type": "stream",
     "text": [
      "['dl3_LST-1.Run2968_first10.fits.gz']\n"
     ]
    }
   ],
   "source": [
    "# Get the list of all DL3 files in the given output destination\n",
    "list_dl3_files = sorted(Path(output_dl3_path).glob(\"dl3*gz\"))\n",
    "\n",
    "file_list = []\n",
    "for d in list_dl3_files:\n",
    "    file_list.append(d.name)\n",
    "print(file_list)"
   ]
  },
  {
   "cell_type": "code",
   "execution_count": 22,
   "id": "ffc94043",
   "metadata": {},
   "outputs": [
    {
     "name": "stderr",
     "output_type": "stream",
     "text": [
      "Run 2968 does not contain HDU PSF\n"
     ]
    }
   ],
   "source": [
    "create_hdu_index_hdu(\n",
    "    file_list, \n",
    "    Path(output_dl3_path), \n",
    "    Path(output_dl3_path)/\"hdu-index.fits.gz\", \n",
    "    overwrite\n",
    ")"
   ]
  },
  {
   "cell_type": "code",
   "execution_count": 23,
   "id": "f2dc5ecf",
   "metadata": {},
   "outputs": [],
   "source": [
    "create_obs_index_hdu(\n",
    "    file_list, \n",
    "    Path(output_dl3_path), \n",
    "    Path(output_dl3_path)/\"obs-index.fits.gz\", \n",
    "    overwrite\n",
    ")"
   ]
  },
  {
   "cell_type": "markdown",
   "id": "9554cb12",
   "metadata": {},
   "source": [
    "# 10. Check the DL3 Index files"
   ]
  },
  {
   "cell_type": "code",
   "execution_count": 24,
   "id": "89a42bc1",
   "metadata": {},
   "outputs": [
    {
     "data": {
      "text/html": [
       "<div><i>QTable length=7</i>\n",
       "<table id=\"table140451338022432\" class=\"table-striped table-bordered table-condensed\">\n",
       "<thead><tr><th>OBS_ID</th><th>HDU_TYPE</th><th>HDU_CLASS</th><th>FILE_DIR</th><th>FILE_NAME</th><th>HDU_NAME</th><th>SIZE</th></tr></thead>\n",
       "<thead><tr><th>int64</th><th>bytes8</th><th>bytes10</th><th>bytes1</th><th>bytes33</th><th>bytes17</th><th>int64</th></tr></thead>\n",
       "<tr><td>2968</td><td>events</td><td>events</td><td>.</td><td>dl3_LST-1.Run2968_first10.fits.gz</td><td>EVENTS</td><td>6752051</td></tr>\n",
       "<tr><td>2968</td><td>gti</td><td>gti</td><td>.</td><td>dl3_LST-1.Run2968_first10.fits.gz</td><td>GTI</td><td>6752051</td></tr>\n",
       "<tr><td>2968</td><td>pointing</td><td>pointing</td><td>.</td><td>dl3_LST-1.Run2968_first10.fits.gz</td><td>POINTING</td><td>6752051</td></tr>\n",
       "<tr><td>2968</td><td>aeff</td><td>aeff_2d</td><td>.</td><td>dl3_LST-1.Run2968_first10.fits.gz</td><td>EFFECTIVE AREA</td><td>6752051</td></tr>\n",
       "<tr><td>2968</td><td>edisp</td><td>edisp_2d</td><td>.</td><td>dl3_LST-1.Run2968_first10.fits.gz</td><td>ENERGY DISPERSION</td><td>6752051</td></tr>\n",
       "<tr><td>2968</td><td>bkg</td><td>bkg_2d</td><td>.</td><td>dl3_LST-1.Run2968_first10.fits.gz</td><td>BACKGROUND</td><td>6752051</td></tr>\n",
       "<tr><td>2968</td><td>rad_max</td><td>rad_max_2d</td><td>.</td><td>dl3_LST-1.Run2968_first10.fits.gz</td><td>RAD_MAX</td><td>6752051</td></tr>\n",
       "</table></div>"
      ],
      "text/plain": [
       "<QTable length=7>\n",
       "OBS_ID HDU_TYPE HDU_CLASS  ...      HDU_NAME       SIZE \n",
       "int64   bytes8   bytes10   ...      bytes17       int64 \n",
       "------ -------- ---------- ... ----------------- -------\n",
       "  2968   events     events ...            EVENTS 6752051\n",
       "  2968      gti        gti ...               GTI 6752051\n",
       "  2968 pointing   pointing ...          POINTING 6752051\n",
       "  2968     aeff    aeff_2d ...    EFFECTIVE AREA 6752051\n",
       "  2968    edisp   edisp_2d ... ENERGY DISPERSION 6752051\n",
       "  2968      bkg     bkg_2d ...        BACKGROUND 6752051\n",
       "  2968  rad_max rad_max_2d ...           RAD_MAX 6752051"
      ]
     },
     "execution_count": 24,
     "metadata": {},
     "output_type": "execute_result"
    }
   ],
   "source": [
    "QTable.read(output_dl3_path+\"hdu-index.fits.gz\")"
   ]
  },
  {
   "cell_type": "code",
   "execution_count": 25,
   "id": "ef2cdb24",
   "metadata": {},
   "outputs": [
    {
     "data": {
      "text/plain": [
       "OrderedDict([('CREATOR', 'lstchain v0.8.5.dev248+g9058afb'),\n",
       "             ('HDUDOC',\n",
       "              'https://github.com/open-gamma-ray-astro/gamma-astro-data-formats'),\n",
       "             ('HDUVERS', '0.2'),\n",
       "             ('HDUCLASS', 'GADF'),\n",
       "             ('ORIGIN', 'CTA'),\n",
       "             ('TELESCOP', 'CTA-N'),\n",
       "             ('CREATED', '2022-02-02 09:34:54.880'),\n",
       "             ('HDUCLAS1', 'INDEX'),\n",
       "             ('HDUCLAS2', 'HDU'),\n",
       "             ('INSTRUME', 'LST-1'),\n",
       "             ('BASE_DIR',\n",
       "              '/fefs/aswg/workspace/analysis-school-2022/src_indep'),\n",
       "             ('EXTNAME', 'HDU INDEX')])"
      ]
     },
     "execution_count": 25,
     "metadata": {},
     "output_type": "execute_result"
    }
   ],
   "source": [
    "QTable.read(output_dl3_path+\"hdu-index.fits.gz\").meta"
   ]
  },
  {
   "cell_type": "code",
   "execution_count": 26,
   "id": "8d72865e",
   "metadata": {},
   "outputs": [
    {
     "data": {
      "text/html": [
       "<div><i>QTable length=1</i>\n",
       "<table id=\"table140456300383008\" class=\"table-striped table-bordered table-condensed\">\n",
       "<thead><tr><th>OBS_ID</th><th>DATE-OBS</th><th>TIME-OBS</th><th>DATE-END</th><th>TIME-END</th><th>RA_PNT</th><th>DEC_PNT</th><th>ZEN_PNT</th><th>ALT_PNT</th><th>AZ_PNT</th><th>RA_OBJ</th><th>DEC_OBJ</th><th>TSTART</th><th>TSTOP</th><th>ONTIME</th><th>TELAPSE</th><th>LIVETIME</th><th>DEADC</th><th>OBJECT</th><th>OBS_MODE</th><th>N_TELS</th><th>TELLIST</th><th>INSTRUME</th></tr></thead>\n",
       "<thead><tr><th></th><th></th><th></th><th></th><th></th><th>deg</th><th>deg</th><th>deg</th><th>deg</th><th>deg</th><th>deg</th><th>deg</th><th>s</th><th>s</th><th>s</th><th>s</th><th>s</th><th></th><th></th><th></th><th></th><th></th><th></th></tr></thead>\n",
       "<thead><tr><th>int64</th><th>bytes10</th><th>bytes12</th><th>bytes10</th><th>bytes12</th><th>float64</th><th>float64</th><th>float64</th><th>float64</th><th>float64</th><th>float64</th><th>float64</th><th>float64</th><th>float64</th><th>float64</th><th>float64</th><th>float64</th><th>float64</th><th>bytes4</th><th>bytes6</th><th>int64</th><th>bytes5</th><th>bytes5</th></tr></thead>\n",
       "<tr><td>2968</td><td>2020-11-21</td><td>00:49:07.551</td><td>2020-11-21</td><td>00:50:48.577</td><td>83.26649185504121</td><td>21.78727828618377</td><td>26.615508929151133</td><td>63.38449107084887</td><td>98.60988543842592</td><td>83.63308333</td><td>22.0145</td><td>1605919747.55119</td><td>1605919848.577336</td><td>101.0285594463348</td><td>101.0261459350586</td><td>96.97985761133062</td><td>0.9599251750476078</td><td>Crab</td><td>WOBBLE</td><td>1</td><td>LST-1</td><td>LST-1</td></tr>\n",
       "</table></div>"
      ],
      "text/plain": [
       "<QTable length=1>\n",
       "OBS_ID  DATE-OBS    TIME-OBS    DATE-END  ... OBS_MODE N_TELS TELLIST INSTRUME\n",
       "                                          ...                                 \n",
       "int64   bytes10     bytes12     bytes10   ...  bytes6  int64   bytes5  bytes5 \n",
       "------ ---------- ------------ ---------- ... -------- ------ ------- --------\n",
       "  2968 2020-11-21 00:49:07.551 2020-11-21 ...   WOBBLE      1   LST-1    LST-1"
      ]
     },
     "execution_count": 26,
     "metadata": {},
     "output_type": "execute_result"
    }
   ],
   "source": [
    "QTable.read(output_dl3_path+\"obs-index.fits.gz\")"
   ]
  },
  {
   "cell_type": "code",
   "execution_count": 27,
   "id": "aa28c0fd",
   "metadata": {},
   "outputs": [
    {
     "data": {
      "text/plain": [
       "OrderedDict([('CREATOR', 'lstchain v0.8.5.dev248+g9058afb'),\n",
       "             ('HDUDOC',\n",
       "              'https://github.com/open-gamma-ray-astro/gamma-astro-data-formats'),\n",
       "             ('HDUVERS', '0.2'),\n",
       "             ('HDUCLASS', 'GADF'),\n",
       "             ('ORIGIN', 'CTA'),\n",
       "             ('TELESCOP', 'CTA-N'),\n",
       "             ('CREATED', '2022-02-02 09:34:54.975'),\n",
       "             ('HDUCLAS1', 'INDEX'),\n",
       "             ('HDUCLAS2', 'OBS'),\n",
       "             ('INSTRUME', 'LST-1'),\n",
       "             ('MJDREFI', 40587),\n",
       "             ('MJDREFF', 0.0),\n",
       "             ('EXTNAME', 'OBS INDEX')])"
      ]
     },
     "execution_count": 27,
     "metadata": {},
     "output_type": "execute_result"
    }
   ],
   "source": [
    "QTable.read(output_dl3_path+\"obs-index.fits.gz\").meta"
   ]
  },
  {
   "cell_type": "code",
   "execution_count": null,
   "id": "4261ddb5",
   "metadata": {},
   "outputs": [],
   "source": []
  }
 ],
 "metadata": {
  "kernelspec": {
   "display_name": "lst-dev",
   "language": "python",
   "name": "lst-dev"
  },
  "language_info": {
   "codemirror_mode": {
    "name": "ipython",
    "version": 3
   },
   "file_extension": ".py",
   "mimetype": "text/x-python",
   "name": "python",
   "nbconvert_exporter": "python",
   "pygments_lexer": "ipython3",
   "version": "3.8.12"
  }
 },
 "nbformat": 4,
 "nbformat_minor": 5
}
