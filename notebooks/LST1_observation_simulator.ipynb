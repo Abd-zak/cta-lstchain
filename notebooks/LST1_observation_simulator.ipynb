{
 "cells": [
  {
   "cell_type": "code",
   "execution_count": 1,
   "id": "8d7fb8ab-7034-47be-a392-17612fd611b7",
   "metadata": {},
   "outputs": [],
   "source": [
    "import os\n",
    "import pandas as pd\n",
    "import numpy as np\n",
    "import astropy.units as u\n",
    "import matplotlib.pyplot as plt\n",
    "import gammapy\n",
    "from gammapy.modeling.models import EBLAbsorptionNormSpectralModel\n",
    "import subprocess\n",
    "from pyirf.spectral import CRAB_MAGIC_JHEAP2015, PowerLaw, LogParabola\n",
    "from pyirf.statistics import li_ma_significance\n",
    "from scipy.stats import moyal, norm, skewnorm\n",
    "from pathlib import Path"
   ]
  },
  {
   "cell_type": "markdown",
   "id": "c30c3f8d",
   "metadata": {},
   "source": [
    "## Set cut efficiency"
   ]
  },
  {
   "cell_type": "code",
   "execution_count": 67,
   "id": "ef3576a4",
   "metadata": {},
   "outputs": [],
   "source": [
    "#\n",
    "# Cut efficiency: the same for the gammaness cut and the theta cut\n",
    "# Options: 0.4, 0.7, 0.9\n",
    "#\n",
    "# Recommended: \n",
    "# 0.7: standard cuts (safer for spectral analysis)\n",
    "# 0.4: tight cuts, better for detection of weak sources\n",
    "#\n",
    "cut_efficiency = 0.4"
   ]
  },
  {
   "cell_type": "markdown",
   "id": "5dd2e6fd",
   "metadata": {},
   "source": [
    "## Load files which contain the (approximate) instrument response function, and show table contents\n",
    "They characterize the average performance of LST1 within 1 degree off-axis (computed from diffuse gamma MC and\n",
    "real data for the cosmic ray rates)\n",
    "The Ereco/Etrue distributions in each Etrue bin is parametrized with moyal or a skewnorm function (whatever fits better) "
   ]
  },
  {
   "cell_type": "code",
   "execution_count": 68,
   "id": "95ac1d89",
   "metadata": {},
   "outputs": [],
   "source": [
    "#\n",
    "# Load files for the requested efficiency:\n",
    "#\n",
    "datadir = os.environ['LSTCHAIN'] + '/data/'"
   ]
  },
  {
   "cell_type": "code",
   "execution_count": 69,
   "id": "c59f8666",
   "metadata": {},
   "outputs": [],
   "source": [
    "input_filename = datadir + f'LST1_gamma_irf_gheffi_{cut_efficiency:.2f}_theffi_{cut_efficiency:.2f}.csv'\n",
    "gamma_data = pd.read_csv(input_filename)\n",
    "\n",
    "input_filename = datadir + f'LST1_backg_irf_gheffi_{cut_efficiency:.2f}_theffi_{cut_efficiency:.2f}.csv'\n",
    "background_data = pd.read_csv(input_filename)"
   ]
  },
  {
   "cell_type": "code",
   "execution_count": 70,
   "id": "ad3a988e",
   "metadata": {
    "scrolled": false
   },
   "outputs": [
    {
     "data": {
      "text/html": [
       "<div>\n",
       "<style scoped>\n",
       "    .dataframe tbody tr th:only-of-type {\n",
       "        vertical-align: middle;\n",
       "    }\n",
       "\n",
       "    .dataframe tbody tr th {\n",
       "        vertical-align: top;\n",
       "    }\n",
       "\n",
       "    .dataframe thead th {\n",
       "        text-align: right;\n",
       "    }\n",
       "</style>\n",
       "<table border=\"1\" class=\"dataframe\">\n",
       "  <thead>\n",
       "    <tr style=\"text-align: right;\">\n",
       "      <th></th>\n",
       "      <th>ZD_deg</th>\n",
       "      <th>Etrue_min_TeV</th>\n",
       "      <th>Etrue_max_TeV</th>\n",
       "      <th>Aeff_m2</th>\n",
       "      <th>emig_mu_loc</th>\n",
       "      <th>emig_mu_scale</th>\n",
       "      <th>emig_mu_a</th>\n",
       "      <th>emig_model</th>\n",
       "    </tr>\n",
       "  </thead>\n",
       "  <tbody>\n",
       "    <tr>\n",
       "      <th>0</th>\n",
       "      <td>6.00</td>\n",
       "      <td>0.011220</td>\n",
       "      <td>0.014125</td>\n",
       "      <td>6.018636e+02</td>\n",
       "      <td>2.141614</td>\n",
       "      <td>0.237586</td>\n",
       "      <td>NaN</td>\n",
       "      <td>moyal</td>\n",
       "    </tr>\n",
       "    <tr>\n",
       "      <th>1</th>\n",
       "      <td>6.00</td>\n",
       "      <td>0.014125</td>\n",
       "      <td>0.017783</td>\n",
       "      <td>1.229892e+03</td>\n",
       "      <td>1.796029</td>\n",
       "      <td>0.218862</td>\n",
       "      <td>NaN</td>\n",
       "      <td>moyal</td>\n",
       "    </tr>\n",
       "    <tr>\n",
       "      <th>2</th>\n",
       "      <td>6.00</td>\n",
       "      <td>0.017783</td>\n",
       "      <td>0.022387</td>\n",
       "      <td>2.391636e+03</td>\n",
       "      <td>1.431809</td>\n",
       "      <td>0.201941</td>\n",
       "      <td>NaN</td>\n",
       "      <td>moyal</td>\n",
       "    </tr>\n",
       "    <tr>\n",
       "      <th>3</th>\n",
       "      <td>6.00</td>\n",
       "      <td>0.022387</td>\n",
       "      <td>0.028184</td>\n",
       "      <td>3.886893e+03</td>\n",
       "      <td>1.222006</td>\n",
       "      <td>0.185834</td>\n",
       "      <td>NaN</td>\n",
       "      <td>moyal</td>\n",
       "    </tr>\n",
       "    <tr>\n",
       "      <th>4</th>\n",
       "      <td>6.00</td>\n",
       "      <td>0.028184</td>\n",
       "      <td>0.035481</td>\n",
       "      <td>5.221963e+03</td>\n",
       "      <td>1.041203</td>\n",
       "      <td>0.175796</td>\n",
       "      <td>NaN</td>\n",
       "      <td>moyal</td>\n",
       "    </tr>\n",
       "    <tr>\n",
       "      <th>...</th>\n",
       "      <td>...</td>\n",
       "      <td>...</td>\n",
       "      <td>...</td>\n",
       "      <td>...</td>\n",
       "      <td>...</td>\n",
       "      <td>...</td>\n",
       "      <td>...</td>\n",
       "      <td>...</td>\n",
       "    </tr>\n",
       "    <tr>\n",
       "      <th>345</th>\n",
       "      <td>66.44</td>\n",
       "      <td>11.220185</td>\n",
       "      <td>14.125375</td>\n",
       "      <td>1.069989e+06</td>\n",
       "      <td>0.858829</td>\n",
       "      <td>0.174259</td>\n",
       "      <td>1.269968</td>\n",
       "      <td>skewnorm</td>\n",
       "    </tr>\n",
       "    <tr>\n",
       "      <th>346</th>\n",
       "      <td>66.44</td>\n",
       "      <td>14.125375</td>\n",
       "      <td>17.782794</td>\n",
       "      <td>1.139978e+06</td>\n",
       "      <td>0.844060</td>\n",
       "      <td>0.178565</td>\n",
       "      <td>1.444996</td>\n",
       "      <td>skewnorm</td>\n",
       "    </tr>\n",
       "    <tr>\n",
       "      <th>347</th>\n",
       "      <td>66.44</td>\n",
       "      <td>17.782794</td>\n",
       "      <td>22.387211</td>\n",
       "      <td>1.294651e+06</td>\n",
       "      <td>0.843795</td>\n",
       "      <td>0.182584</td>\n",
       "      <td>1.540402</td>\n",
       "      <td>skewnorm</td>\n",
       "    </tr>\n",
       "    <tr>\n",
       "      <th>348</th>\n",
       "      <td>66.44</td>\n",
       "      <td>22.387211</td>\n",
       "      <td>28.183829</td>\n",
       "      <td>1.192070e+06</td>\n",
       "      <td>0.848614</td>\n",
       "      <td>0.184290</td>\n",
       "      <td>1.672204</td>\n",
       "      <td>skewnorm</td>\n",
       "    </tr>\n",
       "    <tr>\n",
       "      <th>349</th>\n",
       "      <td>66.44</td>\n",
       "      <td>28.183829</td>\n",
       "      <td>35.481339</td>\n",
       "      <td>1.231130e+06</td>\n",
       "      <td>0.841808</td>\n",
       "      <td>0.195392</td>\n",
       "      <td>1.734357</td>\n",
       "      <td>skewnorm</td>\n",
       "    </tr>\n",
       "  </tbody>\n",
       "</table>\n",
       "<p>350 rows × 8 columns</p>\n",
       "</div>"
      ],
      "text/plain": [
       "     ZD_deg  Etrue_min_TeV  Etrue_max_TeV       Aeff_m2  emig_mu_loc  \\\n",
       "0      6.00       0.011220       0.014125  6.018636e+02     2.141614   \n",
       "1      6.00       0.014125       0.017783  1.229892e+03     1.796029   \n",
       "2      6.00       0.017783       0.022387  2.391636e+03     1.431809   \n",
       "3      6.00       0.022387       0.028184  3.886893e+03     1.222006   \n",
       "4      6.00       0.028184       0.035481  5.221963e+03     1.041203   \n",
       "..      ...            ...            ...           ...          ...   \n",
       "345   66.44      11.220185      14.125375  1.069989e+06     0.858829   \n",
       "346   66.44      14.125375      17.782794  1.139978e+06     0.844060   \n",
       "347   66.44      17.782794      22.387211  1.294651e+06     0.843795   \n",
       "348   66.44      22.387211      28.183829  1.192070e+06     0.848614   \n",
       "349   66.44      28.183829      35.481339  1.231130e+06     0.841808   \n",
       "\n",
       "     emig_mu_scale  emig_mu_a emig_model  \n",
       "0         0.237586        NaN      moyal  \n",
       "1         0.218862        NaN      moyal  \n",
       "2         0.201941        NaN      moyal  \n",
       "3         0.185834        NaN      moyal  \n",
       "4         0.175796        NaN      moyal  \n",
       "..             ...        ...        ...  \n",
       "345       0.174259   1.269968   skewnorm  \n",
       "346       0.178565   1.444996   skewnorm  \n",
       "347       0.182584   1.540402   skewnorm  \n",
       "348       0.184290   1.672204   skewnorm  \n",
       "349       0.195392   1.734357   skewnorm  \n",
       "\n",
       "[350 rows x 8 columns]"
      ]
     },
     "execution_count": 70,
     "metadata": {},
     "output_type": "execute_result"
    }
   ],
   "source": [
    "gamma_data"
   ]
  },
  {
   "cell_type": "code",
   "execution_count": 71,
   "id": "1d2b1efe",
   "metadata": {
    "scrolled": false
   },
   "outputs": [
    {
     "data": {
      "text/html": [
       "<div>\n",
       "<style scoped>\n",
       "    .dataframe tbody tr th:only-of-type {\n",
       "        vertical-align: middle;\n",
       "    }\n",
       "\n",
       "    .dataframe tbody tr th {\n",
       "        vertical-align: top;\n",
       "    }\n",
       "\n",
       "    .dataframe thead th {\n",
       "        text-align: right;\n",
       "    }\n",
       "</style>\n",
       "<table border=\"1\" class=\"dataframe\">\n",
       "  <thead>\n",
       "    <tr style=\"text-align: right;\">\n",
       "      <th></th>\n",
       "      <th>ZD_deg</th>\n",
       "      <th>Ereco_min_TeV</th>\n",
       "      <th>Ereco_max_TeV</th>\n",
       "      <th>BckgRate_per_second</th>\n",
       "      <th>Theta_cut_deg</th>\n",
       "      <th>Gammaness_cut</th>\n",
       "    </tr>\n",
       "  </thead>\n",
       "  <tbody>\n",
       "    <tr>\n",
       "      <th>0</th>\n",
       "      <td>6.00</td>\n",
       "      <td>0.012589</td>\n",
       "      <td>0.019953</td>\n",
       "      <td>0.085172</td>\n",
       "      <td>0.320000</td>\n",
       "      <td>0.149805</td>\n",
       "    </tr>\n",
       "    <tr>\n",
       "      <th>1</th>\n",
       "      <td>6.00</td>\n",
       "      <td>0.019953</td>\n",
       "      <td>0.031623</td>\n",
       "      <td>3.484274</td>\n",
       "      <td>0.254168</td>\n",
       "      <td>0.223265</td>\n",
       "    </tr>\n",
       "    <tr>\n",
       "      <th>2</th>\n",
       "      <td>6.00</td>\n",
       "      <td>0.031623</td>\n",
       "      <td>0.050119</td>\n",
       "      <td>4.478140</td>\n",
       "      <td>0.228366</td>\n",
       "      <td>0.242829</td>\n",
       "    </tr>\n",
       "    <tr>\n",
       "      <th>3</th>\n",
       "      <td>6.00</td>\n",
       "      <td>0.050119</td>\n",
       "      <td>0.079433</td>\n",
       "      <td>1.477260</td>\n",
       "      <td>0.179308</td>\n",
       "      <td>0.308257</td>\n",
       "    </tr>\n",
       "    <tr>\n",
       "      <th>4</th>\n",
       "      <td>6.00</td>\n",
       "      <td>0.079433</td>\n",
       "      <td>0.125893</td>\n",
       "      <td>0.127875</td>\n",
       "      <td>0.118691</td>\n",
       "      <td>0.520600</td>\n",
       "    </tr>\n",
       "    <tr>\n",
       "      <th>...</th>\n",
       "      <td>...</td>\n",
       "      <td>...</td>\n",
       "      <td>...</td>\n",
       "      <td>...</td>\n",
       "      <td>...</td>\n",
       "      <td>...</td>\n",
       "    </tr>\n",
       "    <tr>\n",
       "      <th>185</th>\n",
       "      <td>66.44</td>\n",
       "      <td>7.943282</td>\n",
       "      <td>12.589254</td>\n",
       "      <td>0.000170</td>\n",
       "      <td>0.100000</td>\n",
       "      <td>0.734576</td>\n",
       "    </tr>\n",
       "    <tr>\n",
       "      <th>186</th>\n",
       "      <td>66.44</td>\n",
       "      <td>12.589254</td>\n",
       "      <td>19.952623</td>\n",
       "      <td>0.000085</td>\n",
       "      <td>0.100000</td>\n",
       "      <td>0.755384</td>\n",
       "    </tr>\n",
       "    <tr>\n",
       "      <th>187</th>\n",
       "      <td>66.44</td>\n",
       "      <td>19.952623</td>\n",
       "      <td>31.622777</td>\n",
       "      <td>0.000043</td>\n",
       "      <td>0.100000</td>\n",
       "      <td>0.770523</td>\n",
       "    </tr>\n",
       "    <tr>\n",
       "      <th>188</th>\n",
       "      <td>66.44</td>\n",
       "      <td>31.622777</td>\n",
       "      <td>50.118723</td>\n",
       "      <td>0.000021</td>\n",
       "      <td>0.100000</td>\n",
       "      <td>0.791636</td>\n",
       "    </tr>\n",
       "    <tr>\n",
       "      <th>189</th>\n",
       "      <td>66.44</td>\n",
       "      <td>50.118723</td>\n",
       "      <td>79.432823</td>\n",
       "      <td>0.000011</td>\n",
       "      <td>0.100000</td>\n",
       "      <td>0.810671</td>\n",
       "    </tr>\n",
       "  </tbody>\n",
       "</table>\n",
       "<p>190 rows × 6 columns</p>\n",
       "</div>"
      ],
      "text/plain": [
       "     ZD_deg  Ereco_min_TeV  Ereco_max_TeV  BckgRate_per_second  Theta_cut_deg  \\\n",
       "0      6.00       0.012589       0.019953             0.085172       0.320000   \n",
       "1      6.00       0.019953       0.031623             3.484274       0.254168   \n",
       "2      6.00       0.031623       0.050119             4.478140       0.228366   \n",
       "3      6.00       0.050119       0.079433             1.477260       0.179308   \n",
       "4      6.00       0.079433       0.125893             0.127875       0.118691   \n",
       "..      ...            ...            ...                  ...            ...   \n",
       "185   66.44       7.943282      12.589254             0.000170       0.100000   \n",
       "186   66.44      12.589254      19.952623             0.000085       0.100000   \n",
       "187   66.44      19.952623      31.622777             0.000043       0.100000   \n",
       "188   66.44      31.622777      50.118723             0.000021       0.100000   \n",
       "189   66.44      50.118723      79.432823             0.000011       0.100000   \n",
       "\n",
       "     Gammaness_cut  \n",
       "0         0.149805  \n",
       "1         0.223265  \n",
       "2         0.242829  \n",
       "3         0.308257  \n",
       "4         0.520600  \n",
       "..             ...  \n",
       "185       0.734576  \n",
       "186       0.755384  \n",
       "187       0.770523  \n",
       "188       0.791636  \n",
       "189       0.810671  \n",
       "\n",
       "[190 rows x 6 columns]"
      ]
     },
     "execution_count": 71,
     "metadata": {},
     "output_type": "execute_result"
    }
   ],
   "source": [
    "background_data"
   ]
  },
  {
   "cell_type": "code",
   "execution_count": 72,
   "id": "90114613",
   "metadata": {},
   "outputs": [
    {
     "name": "stdout",
     "output_type": "stream",
     "text": [
      "Available zeniths: [ 6.     9.579 16.08  23.16  30.39  37.66  44.92  52.16  59.34  66.44 ] (degrees)\n"
     ]
    }
   ],
   "source": [
    "# CHECK that we have the same pointing zenith values in both tables:\n",
    "assert np.alltrue(np.unique(gamma_data.ZD_deg) == np.unique(background_data.ZD_deg))\n",
    "\n",
    "# Available zeniths:\n",
    "zenith = np.unique(gamma_data.ZD_deg)\n",
    "print('Available zeniths:', zenith, '(degrees)')"
   ]
  },
  {
   "cell_type": "markdown",
   "id": "dc762a1a",
   "metadata": {},
   "source": [
    "##  Zenith distance bin selection"
   ]
  },
  {
   "cell_type": "code",
   "execution_count": 73,
   "id": "a5a9386a",
   "metadata": {},
   "outputs": [
    {
     "name": "stdout",
     "output_type": "stream",
     "text": [
      "Selected ZD =  23.16 degrees\n"
     ]
    }
   ],
   "source": [
    "# Choose the bins among those above. Just set the bin number (from 0)\n",
    "# Make sure you choose values which make sense for the declination of your source\n",
    "\n",
    "zd_bin = 3\n",
    "\n",
    "print('Selected ZD = ', zenith[zd_bin], 'degrees')\n",
    "\n",
    "# Cuts for tables:\n",
    "zd_selection_gamma = abs(gamma_data.ZD_deg - np.unique(gamma_data.ZD_deg)[zd_bin])<0.01\n",
    "zd_selection_backg = abs(background_data.ZD_deg - np.unique(background_data.ZD_deg)[zd_bin])<0.01"
   ]
  },
  {
   "cell_type": "markdown",
   "id": "8d1c2dcf",
   "metadata": {},
   "source": [
    "## ON to OFF exposure"
   ]
  },
  {
   "cell_type": "code",
   "execution_count": 74,
   "id": "0c58505b",
   "metadata": {},
   "outputs": [],
   "source": [
    "# Ratio of ON to OFF exposure (Li & Ma's \"alpha\")\n",
    "# For standard wobble offset (0.4 deg) reasonable values are alpha=0.333 (3 off regions) above 0.2 TeV, \n",
    "# and alpha=1 below 0.2 TeV.  For testing sensitivity with the standard definition, set alpha=0.2\n",
    "\n",
    "alpha = 0.333 # 1"
   ]
  },
  {
   "cell_type": "markdown",
   "id": "311a8237",
   "metadata": {},
   "source": [
    "## Pulsar mode\n",
    "(overrides the setting of alpha above)"
   ]
  },
  {
   "cell_type": "code",
   "execution_count": 75,
   "id": "a589ca87",
   "metadata": {},
   "outputs": [
    {
     "name": "stdout",
     "output_type": "stream",
     "text": [
      "alpha = 0.1229\n"
     ]
    }
   ],
   "source": [
    "pulsar_mode = False # Set to True to activate it\n",
    "\n",
    "on_phase_interval = 0.043 # Crab P1: [-0.017, 0.026] \n",
    "off_phase_interval = 0.35 # [0.52 - 0.87]\n",
    "\n",
    "alpha = on_phase_interval / off_phase_interval\n",
    "print(f'alpha = {alpha:.4f}')\n",
    "\n",
    "# The spectrum is interpreted as average flux in full period (i.e. not just in the on-phase)"
   ]
  },
  {
   "cell_type": "markdown",
   "id": "aaf2cba7",
   "metadata": {},
   "source": [
    "## Observation time"
   ]
  },
  {
   "cell_type": "code",
   "execution_count": 76,
   "id": "7d8d3a2e",
   "metadata": {},
   "outputs": [],
   "source": [
    "# effective_obs_time = 103 * u.h # Crab pulsar paper\n",
    "\n",
    "# effective_obs_time = 8 * u.s # BOAT, 240 - 248 s\n",
    "\n",
    "# effective_obs_time = 34 * u.h  # Crab nebula. performance paper\n",
    "\n",
    "effective_obs_time = 11.8 * u.h  # 1ES 1011+496, February 2014 flare"
   ]
  },
  {
   "cell_type": "markdown",
   "id": "16d22a98",
   "metadata": {},
   "source": [
    "## Source extension\n",
    "For moderately extended sources, say below ~0.5 degrees radius\n",
    "Set here the radius of the source within which (in 2d-gaussian approximation) the same fraction of the source is contained as the cut efficiency set above. That is, if you use 0.7 efficiency, set as source radius the angular distance within which 70% of the emission is expected to be contained.\n",
    "We will simply increase the background by a factor (source_radius$^2$ + theta_cut$^2$) / (theta_cut$^2$), since we expect to integrate the same fraction of the signal within an angle sqrt(source_radius$^2$ + theta_cut$^2$) "
   ]
  },
  {
   "cell_type": "code",
   "execution_count": 77,
   "id": "4954c1de",
   "metadata": {
    "scrolled": false
   },
   "outputs": [
    {
     "name": "stdout",
     "output_type": "stream",
     "text": [
      "Emission from a point-like source will be assumed!\n"
     ]
    }
   ],
   "source": [
    "source_radius = 0 # 0.3 * u.deg\n",
    "theta_cut = background_data.Theta_cut_deg[zd_selection_backg].to_numpy()*u.deg\n",
    "\n",
    "if source_radius == 0:\n",
    "    print(\"Emission from a point-like source will be assumed!\")\n",
    "    background_increase_factor = np.ones_like(theta_cut.to_value())\n",
    "else:\n",
    "    print(f'Source angular radius within which {cut_efficiency:.1%} of the emission is contained: {source_radius}')\n",
    "\n",
    "\n",
    "    background_increase_factor = (theta_cut**2 + \n",
    "                                  (source_radius.to_value(u.deg)*np.ones_like(theta_cut))**2) / (theta_cut**2)"
   ]
  },
  {
   "cell_type": "markdown",
   "id": "d662546b",
   "metadata": {},
   "source": [
    "## Source redshift"
   ]
  },
  {
   "cell_type": "code",
   "execution_count": 78,
   "id": "ea9bca3c",
   "metadata": {},
   "outputs": [],
   "source": [
    "redshift = 0\n",
    "\n",
    "redshift = 0.212 # 1ES 1011\n",
    "# redshift = 0.151 # BOAT GRB\n",
    "\n",
    "# We will apply the Dominguez EBL model to simulate the absorption\n",
    "\n",
    "\n",
    "# Make sure we have the necessary EBL absorption data:\n",
    "try:\n",
    "    os.environ['GAMMAPY_DATA']\n",
    "except:\n",
    "    # WE SET HERE THE GAMMAPY_DATA ENV VARIABLE IN CASE IT IS NOT SET\n",
    "    gammapy_dir = Path(gammapy.__file__).parent\n",
    "    gammapy_dir\n",
    "\n",
    "    ebl_file = subprocess.run(['find', str(gammapy_dir), '-name', 'ebl_dominguez11.fits.gz'], \n",
    "                              stdout=subprocess.PIPE).stdout.decode()\n",
    "    gammapy_data = ebl_file[:ebl_file.find('/ebl/')]\n",
    "    os.environ['GAMMAPY_DATA'] = gammapy_data\n",
    "    print('Set GAMMAPY_DATA to', gammapy_data)\n",
    "\n",
    "\n",
    "dominguez = EBLAbsorptionNormSpectralModel.read_builtin(\"dominguez\", redshift=redshift)"
   ]
  },
  {
   "cell_type": "markdown",
   "id": "e5766b4e",
   "metadata": {},
   "source": [
    "## Source (intrinsic) spectrum "
   ]
  },
  {
   "cell_type": "code",
   "execution_count": 79,
   "id": "e24f72ce",
   "metadata": {},
   "outputs": [],
   "source": [
    "# Set here the simulated intrinsic spectrum intrinsic_dFdE\n",
    "# (it must take as argument an astropy quantity with energy units!)\n",
    "\n",
    "# Crab Nebula:\n",
    "# def intrinsic_dFdE(E):\n",
    "#     return CRAB_MAGIC_JHEAP2015(E)  # Crab Nebula, MAGIC log-parabola\n",
    "\n",
    "# Crab pulsar P1, from LST1 paper (smoothly broken power-law):\n",
    "# def intrinsic_dFdE(E):\n",
    "#     return PowerLaw(normalization=1.27e-4 / (u.TeV * u.cm**2 * u.s), \n",
    "#                     index=-1.811, e_ref=1*u.GeV)(E) * (1+(E/(6.8*u.GeV))**((4.09-1.811)/3))**-3\n",
    "\n",
    "# The BOAT (GRB 221009A) @ ~T0+240s: (set redshift above to 0.151)\n",
    "# def intrinsic_dFdE(E):\n",
    "#     return PowerLaw(normalization=208e-8 / (u.TeV * u.cm**2 * u.s),  \n",
    "#                     index=-2.455, \n",
    "#                     e_ref=1*u.TeV)(E)\n",
    "\n",
    "\n",
    "# 1ES1011 February 2014 flare\n",
    "def intrinsic_dFdE(E):\n",
    "    return PowerLaw(normalization=8.7e-10 / (u.TeV * u.cm**2 * u.s), \n",
    "                    index=-2.03, e_ref=0.25*u.TeV)(E)\n",
    "\n",
    "# A log-parabola spectrum:\n",
    "# def intrinsic_dFdE(E):\n",
    "#     return LogParabola(normalization=5e-8 / (u.TeV * u.cm**2 * u.s), \n",
    "#                     a=-2, b =-0.05, \n",
    "#                     e_ref=0.1*u.TeV)(E)"
   ]
  },
  {
   "cell_type": "code",
   "execution_count": 80,
   "id": "014476b0",
   "metadata": {},
   "outputs": [],
   "source": [
    "# After EBL absorption:\n",
    "def dFdE(E):\n",
    "    return intrinsic_dFdE(E) * dominguez.evaluate(E, redshift, 1)"
   ]
  },
  {
   "cell_type": "markdown",
   "id": "8613146f",
   "metadata": {},
   "source": [
    "## END of user settings\n",
    "#"
   ]
  },
  {
   "cell_type": "code",
   "execution_count": 81,
   "id": "80627c34",
   "metadata": {},
   "outputs": [],
   "source": [
    "# Other settings (change only for tests)\n",
    "\n",
    "backg_systematics_uncertainty = 0.005 # 0.5% (relative) will be added in quadrature to statistical uncertainty of flux points \n",
    "min_signi_in_flux_point = 2     # minimum significance to display a flux point\n",
    "\n",
    "integral_significance_threshold = 5  # \"Detection significance\"\n",
    "integral_min_signal_to_backg_ratio = 0.05 # S/B must be larger or equal than this for detection\n",
    "\n",
    "if pulsar_mode: # unbiased background can be taken from off-phase\n",
    "    backg_systematics_uncertainty = 0\n",
    "    integral_min_signal_to_backg_ratio = 0\n",
    "\n",
    "\n",
    "min_Aeff = 100 *u.m**2         # Minimum required Aeff in Etrue bins. \n",
    "                               # Just to avoid Etrue bins with little MC stats, hence noisy!\n",
    "\n",
    "# To exclude Ereco bins with too strong deviation of the true energies that fall inside them:\n",
    "max_ereco_to_etrue_deviation = 0.5 #   abs(mean(Etrue)/ereco_bin_center - 1) < max_ereco_to_etrue_deviation"
   ]
  },
  {
   "cell_type": "code",
   "execution_count": 82,
   "id": "24e8394c",
   "metadata": {},
   "outputs": [],
   "source": [
    "erecobins = background_data[zd_selection_backg].Ereco_min_TeV.to_numpy()\n",
    "erecobins = np.append(erecobins, background_data[zd_selection_backg].Ereco_max_TeV.to_numpy()[-1])"
   ]
  },
  {
   "cell_type": "code",
   "execution_count": 83,
   "id": "056ea33b",
   "metadata": {},
   "outputs": [],
   "source": [
    "etruebins = gamma_data[zd_selection_gamma].Etrue_min_TeV.to_numpy()\n",
    "etruebins = np.append(etruebins, gamma_data[zd_selection_gamma].Etrue_max_TeV.to_numpy()[-1])\n",
    "\n",
    "effective_area = gamma_data.Aeff_m2[zd_selection_gamma].to_numpy()*u.m**2\n",
    "\n",
    "# Model to characterize the energy migration matrix (skewnorm or moyal):\n",
    "emig_model = gamma_data[zd_selection_gamma].emig_model.to_numpy()\n",
    "\n",
    "# Parameters to characterize the energy migration matrix:\n",
    "loc = gamma_data[zd_selection_gamma].emig_mu_loc.to_numpy()\n",
    "scale = gamma_data[zd_selection_gamma].emig_mu_scale.to_numpy()\n",
    "a = gamma_data[zd_selection_gamma].emig_mu_a.to_numpy()\n",
    "\n",
    "\n",
    "# Now we extrapolate Aeff to higher Etrue by using the same value of the highest available energy:\n",
    "# (it is better than having zeros!) We also assume the same E-migration\n",
    "factor = etruebins[-1]/etruebins[-2] # step in energy in each bin\n",
    "while etruebins[-1] < 80: # extend to 80 TeV at least\n",
    "    etruebins = np.append(etruebins, etruebins[-1]*factor)\n",
    "    effective_area = np.append(effective_area, effective_area[-1])\n",
    "    emig_model = np.append(emig_model, emig_model[-1])\n",
    "    loc = np.append(loc, loc[-1])\n",
    "    scale = np.append(scale, scale[-1])\n",
    "    a = np.append(a, a[-1])"
   ]
  },
  {
   "cell_type": "code",
   "execution_count": 84,
   "id": "1b79d5b2",
   "metadata": {},
   "outputs": [],
   "source": [
    "etruebincenters = (etruebins[:-1]*etruebins[1:])**0.5\n",
    "erecobincenters = (erecobins[:-1]*erecobins[1:])**0.5"
   ]
  },
  {
   "cell_type": "code",
   "execution_count": 85,
   "id": "2038bb5b",
   "metadata": {},
   "outputs": [],
   "source": [
    "# Exclude too low eff. areas (in general, unreliable due to low MC stats)\n",
    "\n",
    "effective_area[effective_area<min_Aeff] = 0\n",
    "\n",
    "# Exclude also Ereco bins which have Ereco values below the first Etrue value with valid Aeff:\n",
    "ereco_mask = erecobincenters >= etruebincenters[np.where(effective_area>0)[0][0]]"
   ]
  },
  {
   "cell_type": "code",
   "execution_count": 86,
   "id": "48a34458",
   "metadata": {},
   "outputs": [],
   "source": [
    "# Integrate dF/dE within a bin, assuming power-law approximation within it:\n",
    "def integrate (dfde1, dfde2, e1, e2):\n",
    "    # We cannot let numpy deal with the units, sometimes rounding leads to wrong units in result!\n",
    "    # like TeV^(1e-15) :-D\n",
    "    if (dfde1 == 0) | (dfde2 == 0): # May happen, e.g because of EBL or a strong cutoff\n",
    "        return 0\n",
    "    \n",
    "    # In power-law approximation:\n",
    "    gamma = np.log(dfde2/dfde1) / np.log(e2/e1)\n",
    "    e1tev = e1.to_value(u.TeV)\n",
    "    e2tev = e2.to_value(u.TeV)\n",
    "    \n",
    "    integral = (dfde1.to_value(1/(u.TeV * u.cm**2 * u.s)) / \n",
    "                (gamma+1) * e1tev**(-gamma) * \n",
    "                (e2tev**(gamma+1) - e1tev**(gamma+1))\n",
    "               )\n",
    "    return integral # (1/u.s/u.cm**2)"
   ]
  },
  {
   "cell_type": "code",
   "execution_count": 87,
   "id": "54b22527",
   "metadata": {},
   "outputs": [],
   "source": [
    "integrated_flux = []\n",
    "for etruemin, etruemax in zip(etruebins[:-1], etruebins[1:]):\n",
    "    integrated_flux.append(integrate(dFdE(etruemin*u.TeV),\n",
    "                                     dFdE(etruemax*u.TeV),\n",
    "                                     etruemin*u.TeV, \n",
    "                                     etruemax*u.TeV))\n",
    "integrated_flux = np.array(integrated_flux)\n",
    "\n",
    "# Too strong EBL absorption produces NaNs in high-E bins, jus trplace by 0's:\n",
    "integrated_flux[np.isnan(integrated_flux)] = 0\n",
    "    \n",
    "integrated_flux = np.array(integrated_flux) * 1/(u.s * u.cm**2)"
   ]
  },
  {
   "cell_type": "markdown",
   "id": "a0d668ca",
   "metadata": {},
   "source": [
    "## Effective area"
   ]
  },
  {
   "cell_type": "code",
   "execution_count": 88,
   "id": "4eff20a0",
   "metadata": {},
   "outputs": [
    {
     "data": {
      "image/png": "[encoded data removed]",
      "text/plain": [
       "<Figure size 800x400 with 1 Axes>"
      ]
     },
     "metadata": {},
     "output_type": "display_data"
    }
   ],
   "source": [
    "plt.figure(figsize=(8,4))\n",
    "plt.plot(etruebincenters, effective_area)\n",
    "plt.xscale('log')\n",
    "plt.yscale('log')\n",
    "plt.xlabel('Etrue (TeV)')\n",
    "plt.ylabel('Aeff (m2)')\n",
    "plt.grid()"
   ]
  },
  {
   "cell_type": "markdown",
   "id": "bb2fb8b7",
   "metadata": {},
   "source": [
    "## Background rate"
   ]
  },
  {
   "cell_type": "code",
   "execution_count": 89,
   "id": "9c89f6e6",
   "metadata": {},
   "outputs": [
    {
     "data": {
      "image/png": "[encoded data removed]",
      "text/plain": [
       "<Figure size 800x400 with 1 Axes>"
      ]
     },
     "metadata": {},
     "output_type": "display_data"
    }
   ],
   "source": [
    "plt.figure(figsize=(8,4))\n",
    "\n",
    "bgrate = background_data[zd_selection_backg].BckgRate_per_second.to_numpy()\n",
    "\n",
    "if pulsar_mode: # Scale background to the on-phase:\n",
    "    bgrate *= on_phase_interval\n",
    "\n",
    "bgrate *= background_increase_factor\n",
    "\n",
    "plt.plot(erecobincenters[ereco_mask], bgrate[ereco_mask])\n",
    "plt.xlabel('Ereco (TeV)')\n",
    "plt.ylabel('Background rate within theta cut\\n (events/s) in Ereco bins')\n",
    "plt.yscale('log')\n",
    "plt.xscale('log')\n",
    "plt.grid()"
   ]
  },
  {
   "cell_type": "code",
   "execution_count": 90,
   "id": "5164274a",
   "metadata": {
    "scrolled": true
   },
   "outputs": [
    {
     "name": "stdout",
     "output_type": "stream",
     "text": [
      "Total gamma rate after cuts: 0.286 events/s\n"
     ]
    }
   ],
   "source": [
    "total_gamma_rate = (integrated_flux*effective_area).to(1/u.s)\n",
    "print(f'Total gamma rate after cuts: {total_gamma_rate.sum().to_value(1/u.s):.3f} events/s')"
   ]
  },
  {
   "cell_type": "code",
   "execution_count": 91,
   "id": "6a415916",
   "metadata": {},
   "outputs": [],
   "source": [
    "num_realizations_a = 100\n",
    "num_realizations_b = 100\n",
    "# Number of realizations (random numbers taken from skewnorm or moyal) for E-migration simulation\n",
    "\n",
    "num_realizations = num_realizations_a * num_realizations_b"
   ]
  },
  {
   "cell_type": "code",
   "execution_count": 92,
   "id": "25b8fe0c",
   "metadata": {},
   "outputs": [],
   "source": [
    "fine_etrue_binning = np.logspace(-2.5, 3.5, 601) # Just for calculation of mean Etrue within an Ereco bin\n",
    "\n",
    "total_bg_counts = effective_obs_time.to_value(u.s) * bgrate\n",
    "\n",
    "total_signal_counts_2d = np.zeros(shape=[len(total_bg_counts), len(fine_etrue_binning)-1])\n",
    "\n",
    "for ietrue in range(len(etruebincenters)):\n",
    "    \n",
    "    gamma_rate = total_gamma_rate[ietrue]\n",
    "\n",
    "    \n",
    "    emin= etruebins[ietrue]\n",
    "    emax = etruebins[ietrue+1]\n",
    "\n",
    "    etrue_values = np.exp(np.log(emin) + np.log(emax/emin) * np.random.uniform(0, 1, num_realizations_a))\n",
    "    \n",
    "    for etrue in etrue_values:\n",
    "        # print(f'{ietrue}: {etrue:.4f} TeV, {gamma_rate}, {loc[ietrue]:.4f}, {scale[ietrue]:.4f}, {emig_model[ietrue]}')\n",
    "        # Possible alternative: simulate according to the (interpolated) events vs Etrue graph,\n",
    "        # instead of all energies being equal to the bin center\n",
    "\n",
    "        if emig_model[ietrue] == 'skewnorm':\n",
    "            ereco = etrue*skewnorm.rvs(a[ietrue], loc[ietrue], scale[ietrue], \n",
    "                                           num_realizations_b)                  \n",
    "        elif emig_model[ietrue] == 'moyal':\n",
    "            ereco = etrue*moyal.rvs(loc[ietrue], scale[ietrue], \n",
    "                                    num_realizations_b)\n",
    "        else:\n",
    "            continue\n",
    "\n",
    "        # counts, _ = np.histogram(ereco, bins=erecobins)\n",
    "        # Histogram in very fine Etrue bins, for later calculation of mean true energy of\n",
    "        # gammas within each Ereco bin:\n",
    "        counts, _, _ = np.histogram2d(ereco, etrue*np.ones_like(ereco), bins=[erecobins, fine_etrue_binning]) \n",
    "\n",
    "\n",
    "        # Integrate in Ereco bins and add to total:\n",
    "        total_signal_counts_2d += (gamma_rate * effective_obs_time * counts / num_realizations)\n",
    "\n",
    "        \n",
    "total_signal_counts = np.sum(total_signal_counts_2d, axis=1) # Integrate in Ereco bins\n",
    "# Now set to zero values below the \"reliable minimum energy\":\n",
    "total_signal_counts[~ereco_mask] = 0\n",
    "total_bg_counts[~ereco_mask] = 0\n",
    " "
   ]
  },
  {
   "cell_type": "code",
   "execution_count": 93,
   "id": "31415b87",
   "metadata": {},
   "outputs": [
    {
     "data": {
      "text/plain": [
       "(0.1, 345586.71542930865)"
      ]
     },
     "execution_count": 93,
     "metadata": {},
     "output_type": "execute_result"
    },
    {
     "data": {
      "image/png": "[encoded data removed]",
      "text/plain": [
       "<Figure size 640x480 with 1 Axes>"
      ]
     },
     "metadata": {},
     "output_type": "display_data"
    }
   ],
   "source": [
    "plt.errorbar(0.5*(erecobins[:-1]+erecobins[1:]), total_signal_counts, total_signal_counts**0.5,\n",
    "             label='gammas', fmt='o')\n",
    "plt.errorbar(0.5*(erecobins[:-1]+erecobins[1:]), total_bg_counts, total_bg_counts**0.5,\n",
    "             label='Background')\n",
    "\n",
    "# PLOT GAMMAS VS. ETRUE FOR COMPARISON, correcting for the different bin width:\n",
    "plt.plot(etruebincenters, total_gamma_rate*effective_obs_time.to_value(u.s)*\n",
    "         len(etruebincenters)/len(erecobincenters), '--', alpha=0.5, label='gammas vs. Etrue')\n",
    "\n",
    "plt.xscale('log')\n",
    "plt.yscale('log')\n",
    "plt.legend()\n",
    "plt.xlabel('Ereco (TeV)')\n",
    "plt.ylabel('Number of events after cuts in Ereco bins')\n",
    "plt.grid()\n",
    "plt.ylim(0.1, 2*max(np.max(total_bg_counts), np.max(total_signal_counts)))\n"
   ]
  },
  {
   "cell_type": "code",
   "execution_count": 94,
   "id": "1ce3c375",
   "metadata": {},
   "outputs": [
    {
     "data": {
      "text/plain": [
       "array([1.61414955e+02, 4.37676163e+04, 1.72793358e+05, 9.97278449e+04,\n",
       "       1.26368420e+04, 1.03932861e+03, 2.73475801e+02, 1.01725507e+02,\n",
       "       4.07068517e+01, 1.62894029e+01, 6.51842715e+00, 2.60843769e+00,\n",
       "       1.04380198e+00, 4.17691626e-01, 1.67145012e-01, 6.68853602e-02,\n",
       "       2.67650908e-02, 1.07104168e-02, 4.38877140e-02])"
      ]
     },
     "execution_count": 94,
     "metadata": {},
     "output_type": "execute_result"
    }
   ],
   "source": [
    "total_bg_counts"
   ]
  },
  {
   "cell_type": "code",
   "execution_count": 95,
   "id": "a3769732",
   "metadata": {
    "scrolled": false
   },
   "outputs": [],
   "source": [
    "mean_etrue_vs_ereco = np.zeros_like(erecobincenters)\n",
    "finebincenters = 0.5 * (fine_etrue_binning[1:]+fine_etrue_binning[:-1])\n",
    "\n",
    "for iereco in range(len(erecobincenters)):\n",
    "    if np.nansum(total_signal_counts_2d[iereco]) == 0:\n",
    "        continue\n",
    "    mean_etrue_vs_ereco[iereco] = (np.nansum(finebincenters * total_signal_counts_2d[iereco]) / \n",
    "                                   np.nansum(total_signal_counts_2d[iereco]))"
   ]
  },
  {
   "cell_type": "code",
   "execution_count": 96,
   "id": "e4d6ac4d",
   "metadata": {},
   "outputs": [
    {
     "data": {
      "image/png": "[encoded data removed]",
      "text/plain": [
       "<Figure size 1200x400 with 2 Axes>"
      ]
     },
     "metadata": {},
     "output_type": "display_data"
    }
   ],
   "source": [
    "fig = plt.figure(figsize=(12,4))\n",
    "\n",
    "fig.add_subplot(1, 2, 1)\n",
    "plt.scatter(erecobincenters, mean_etrue_vs_ereco)\n",
    "plt.xlabel('Ereco bin center (TeV)')\n",
    "plt.ylabel('Mean Etrue in bin (TeV)')\n",
    "plt.xscale('log')\n",
    "plt.yscale('log')\n",
    "plt.grid()\n",
    "\n",
    "fig.add_subplot(1, 2, 2)\n",
    "plt.scatter(erecobincenters, mean_etrue_vs_ereco / erecobincenters)\n",
    "plt.xlabel('Ereco bin center (TeV)')\n",
    "plt.ylabel('Mean Etrue in bin / Ereco bin center')\n",
    "plt.ylim(0, 1.1*np.nanmax(mean_etrue_vs_ereco/erecobincenters))\n",
    "plt.xscale('log')\n",
    "plt.grid()\n",
    "\n",
    "plt.show()"
   ]
  },
  {
   "cell_type": "code",
   "execution_count": 97,
   "id": "80fcfbe2",
   "metadata": {},
   "outputs": [],
   "source": [
    "# Let's not use bind with too high bias in the spectrum:\n",
    "not_too_high_bias = abs(mean_etrue_vs_ereco / erecobincenters - 1) < max_ereco_to_etrue_deviation"
   ]
  },
  {
   "cell_type": "code",
   "execution_count": 98,
   "id": "b22d2e36",
   "metadata": {},
   "outputs": [],
   "source": [
    "significance = li_ma_significance(total_signal_counts+total_bg_counts,\n",
    "                                  total_bg_counts/alpha, alpha)\n",
    "\n",
    "# integrating from each Ereco to max Ereco\n",
    "integral_signal_counts = np.cumsum(total_signal_counts[::-1])[::-1]\n",
    "integral_bg_counts = np.cumsum(total_bg_counts[::-1])[::-1]\n",
    "\n",
    "integral_significance = li_ma_significance(integral_signal_counts+integral_bg_counts,\n",
    "                                           integral_bg_counts/alpha, alpha)\n",
    "integral_signal_to_background_ratio = integral_signal_counts / integral_bg_counts"
   ]
  },
  {
   "cell_type": "markdown",
   "id": "d27e4dfc",
   "metadata": {},
   "source": [
    "## Signal to background ratio and significance in Ereco bins"
   ]
  },
  {
   "cell_type": "code",
   "execution_count": 99,
   "id": "2a3d41c1",
   "metadata": {},
   "outputs": [],
   "source": [
    "signal_to_background_ratio = total_signal_counts / total_bg_counts"
   ]
  },
  {
   "cell_type": "code",
   "execution_count": 100,
   "id": "9b5e3aa8",
   "metadata": {
    "scrolled": false
   },
   "outputs": [
    {
     "data": {
      "image/png": "[encoded data removed]",
      "text/plain": [
       "<Figure size 1200x400 with 2 Axes>"
      ]
     },
     "metadata": {},
     "output_type": "display_data"
    }
   ],
   "source": [
    "fig = plt.figure(figsize=(12,4))\n",
    "fig.add_subplot(1, 2, 1)\n",
    "plt.plot(erecobincenters, signal_to_background_ratio)\n",
    "plt.scatter(erecobincenters, signal_to_background_ratio)\n",
    "plt.grid()\n",
    "plt.xlabel('Ereco (TeV)')\n",
    "plt.ylabel('Signal / background ratio')\n",
    "plt.yscale('log')\n",
    "plt.xscale('log')\n",
    "\n",
    "fig.add_subplot(1, 2, 2)\n",
    "\n",
    "# Conditions to consider a bin reliable\n",
    "reliable_points = ((signal_to_background_ratio >= backg_systematics_uncertainty) &\n",
    "                   not_too_high_bias)\n",
    "\n",
    "plt.scatter(erecobincenters[reliable_points], significance[reliable_points], \n",
    "            label='Valid bins')\n",
    "\n",
    "plt.scatter(erecobincenters[~reliable_points], significance[~reliable_points], label='Unreliable bins', color='orange')\n",
    "\n",
    "plt.grid()\n",
    "plt.legend()\n",
    "plt.xlabel('Ereco (TeV)')\n",
    "plt.ylabel('Li & Ma significance per Ereco bin')\n",
    "plt.xscale('log')"
   ]
  },
  {
   "cell_type": "markdown",
   "id": "ca520d68",
   "metadata": {},
   "source": [
    "## Integral significance (for Ereco>xx)"
   ]
  },
  {
   "cell_type": "code",
   "execution_count": 101,
   "id": "0e1df16e",
   "metadata": {},
   "outputs": [
    {
     "name": "stdout",
     "output_type": "stream",
     "text": [
      "*************************\n",
      "Detection successful! :-D\n"
     ]
    },
    {
     "data": {
      "image/png": "[encoded data removed]",
      "text/plain": [
       "<Figure size 800x400 with 1 Axes>"
      ]
     },
     "metadata": {},
     "output_type": "display_data"
    }
   ],
   "source": [
    "plt.figure(figsize=(8,4))\n",
    "\n",
    "mask = (integral_significance >= integral_significance_threshold)\n",
    "\n",
    "plt.scatter(erecobins[:-1][mask & reliable_points], integral_significance[mask & reliable_points], \n",
    "            label=f'Significance $\\geq$ {integral_significance_threshold} sigma')\n",
    "\n",
    "if (mask & ~reliable_points).sum() > 0:\n",
    "    plt.scatter(erecobins[:-1][mask & ~reliable_points], integral_significance[mask & ~reliable_points], \n",
    "                label=f'Significance >= {integral_significance_threshold}, \\nUNRELIABLE points!')\n",
    "\n",
    "plt.scatter(erecobins[:-1][~mask], integral_significance[~mask],\n",
    "            label=f'Significance < {integral_significance_threshold} sigma')\n",
    "plt.grid()\n",
    "plt.xlabel('Minimum Ereco (TeV)')\n",
    "plt.ylabel('Li & Ma integral significance')\n",
    "plt.xscale('log')\n",
    "\n",
    "if (mask & reliable_points).sum() > 0:\n",
    "    print('*************************')\n",
    "    print('Detection successful! :-D')\n",
    "else:\n",
    "    print('****************')\n",
    "    print('No detection :-C')\n",
    "plt.legend()\n",
    "plt.show()"
   ]
  },
  {
   "cell_type": "markdown",
   "id": "04cd5759",
   "metadata": {},
   "source": [
    "## Simulated SED from observation (Asimov dataset)\n",
    "The fluxes & uncertainties are computed in the Ereco bins, then placed at the mean Etrue of the gamma events falling within the bin, and at the \"expected\" flux level. \n",
    "In reality proper energy unfolding will be needed... what is shown below is just a an estimate of what the spectrum will look like - but pretty accurate for the purpose of observation planning."
   ]
  },
  {
   "cell_type": "code",
   "execution_count": 102,
   "id": "64661959",
   "metadata": {},
   "outputs": [],
   "source": [
    "noff = total_bg_counts / alpha\n",
    "non = total_signal_counts + total_bg_counts\n",
    "# excess = non - alpha * noff (= total_signal_counts in Asimov dataset)\n",
    "stat_excess_error = (non + alpha**2 * noff)**0.5\n",
    "\n",
    "np.seterr(divide='ignore')\n",
    "relative_stat_excess_error = stat_excess_error/total_signal_counts\n",
    "\n",
    "syst_excess_error = backg_systematics_uncertainty * total_bg_counts\n",
    "\n",
    "relative_syst_excess_error = syst_excess_error / total_signal_counts\n",
    "total_relative_excess_error = np.hypot(relative_stat_excess_error, relative_syst_excess_error)"
   ]
  },
  {
   "cell_type": "code",
   "execution_count": null,
   "id": "4d56445f",
   "metadata": {},
   "outputs": [],
   "source": [
    "displayed_points = reliable_points & (significance > min_signi_in_flux_point)\n",
    "\n",
    "if displayed_points.sum() > 0:\n",
    "\n",
    "    SED = ((mean_etrue_vs_ereco[displayed_points]*u.TeV)**2 * \n",
    "           dFdE(mean_etrue_vs_ereco[displayed_points]*u.TeV))\n",
    "\n",
    "    SED_stat_error = SED*relative_stat_excess_error[displayed_points]\n",
    "    SED_total_error = SED*total_relative_excess_error[displayed_points]\n",
    "\n",
    "    plt.figure(figsize=(8,4))\n",
    "    intrinsic_SED = (finebincenters*u.TeV)**2 * intrinsic_dFdE(finebincenters*u.TeV)\n",
    "\n",
    "    if redshift > 0:\n",
    "        plt.plot(finebincenters, intrinsic_SED, '--', color='lightgrey', label='intrinsic')\n",
    "\n",
    "\n",
    "    SED_fine = (fine_etrue_binning*u.TeV)**2 * dFdE(fine_etrue_binning*u.TeV)\n",
    "    plt.plot(fine_etrue_binning, SED_fine, '--')\n",
    "\n",
    "\n",
    "    if not pulsar_mode:\n",
    "        plt.errorbar(mean_etrue_vs_ereco[displayed_points], SED, yerr=SED_total_error, \n",
    "                     fmt='o', markersize=2, \n",
    "                     label='Observed, stat+syst')\n",
    "    plt.errorbar(mean_etrue_vs_ereco[displayed_points], SED, yerr=SED_stat_error, \n",
    "                 fmt='o', markersize=2, \n",
    "                 label='Observed, stat-only')\n",
    "\n",
    "    plt.yscale('log')\n",
    "    plt.xscale('log')\n",
    "    plt.xlabel('Energy (TeV)')\n",
    "    plt.ylabel(f'SED ({SED.unit})')\n",
    "    plt.ylim(np.nanmin((SED-SED_total_error)).value*0.1, \n",
    "             np.nanmax((SED+SED_total_error)).value*5)\n",
    "\n",
    "    plt.xlim(mean_etrue_vs_ereco[displayed_points][0]/3, mean_etrue_vs_ereco[displayed_points][-1]*3)\n",
    "    plt.legend()\n",
    "    plt.grid()\n",
    "    \n",
    "else:\n",
    "    print(\"Nothing to display. No valid flux points!\")"
   ]
  },
  {
   "cell_type": "code",
   "execution_count": null,
   "id": "c63c390f",
   "metadata": {},
   "outputs": [],
   "source": []
  },
  {
   "cell_type": "code",
   "execution_count": null,
   "id": "4e5cbe88",
   "metadata": {},
   "outputs": [],
   "source": []
  }
 ],
 "metadata": {
  "kernelspec": {
   "display_name": "Python 3 (ipykernel)",
   "language": "python",
   "name": "python3"
  },
  "language_info": {
   "codemirror_mode": {
    "name": "ipython",
    "version": 3
   },
   "file_extension": ".py",
   "mimetype": "text/x-python",
   "name": "python",
   "nbconvert_exporter": "python",
   "pygments_lexer": "ipython3",
   "version": "3.11.9"
  }
 },
 "nbformat": 4,
 "nbformat_minor": 5
}
