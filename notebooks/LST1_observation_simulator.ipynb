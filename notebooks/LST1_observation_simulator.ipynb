{
 "cells": [
  {
   "cell_type": "code",
   "execution_count": null,
   "id": "8d7fb8ab-7034-47be-a392-17612fd611b7",
   "metadata": {},
   "outputs": [],
   "source": [
    "import os\n",
    "import pandas as pd\n",
    "import numpy as np\n",
    "import astropy.units as u\n",
    "import matplotlib.pyplot as plt\n",
    "from pyirf.spectral import CRAB_MAGIC_JHEAP2015, PowerLaw, LogParabola\n",
    "from pyirf.statistics import li_ma_significance\n",
    "from scipy.stats import moyal\n",
    "from gammapy.modeling.models import EBLAbsorptionNormSpectralModel"
   ]
  },
  {
   "cell_type": "markdown",
   "id": "c30c3f8d",
   "metadata": {},
   "source": [
    "## Set cut efficiency"
   ]
  },
  {
   "cell_type": "code",
   "execution_count": null,
   "id": "ef3576a4",
   "metadata": {},
   "outputs": [],
   "source": [
    "#\n",
    "# Cut efficiency: the same for the gammaness cut and the theta cut\n",
    "# Options: 0.4, 0.7, 0.9\n",
    "#\n",
    "# Recommended: \n",
    "# 0.7: standard cuts (safer for spectral analysis)\n",
    "# 0.4: tight cuts, better for detection of weak sources\n",
    "#\n",
    "cut_efficiency = 0.7"
   ]
  },
  {
   "cell_type": "markdown",
   "id": "5dd2e6fd",
   "metadata": {},
   "source": [
    "## Load files which contain the instrument response function and show table contents\n",
    "They characterize the average performance of LST1 within 1 degree off-axis (computed from diffuse gamma MC and\n",
    "real data for the cosmic ray rates)"
   ]
  },
  {
   "cell_type": "code",
   "execution_count": null,
   "id": "df170ecd",
   "metadata": {},
   "outputs": [],
   "source": [
    "#\n",
    "# Load files for the requested efficiency:\n",
    "#\n",
    "datadir = os.environ['LSTCHAIN'] + '/data/'"
   ]
  },
  {
   "cell_type": "code",
   "execution_count": null,
   "id": "c59f8666",
   "metadata": {},
   "outputs": [],
   "source": [
    "input_filename = datadir + f'LST1_gamma_irf_gheffi_{cut_efficiency:.2f}_theffi_{cut_efficiency:.2f}.csv'\n",
    "gamma_data = pd.read_csv(input_filename)\n",
    "\n",
    "input_filename = datadir + f'LST1_backg_irf_gheffi_{cut_efficiency:.2f}_theffi_{cut_efficiency:.2f}.csv'\n",
    "background_data = pd.read_csv(input_filename)"
   ]
  },
  {
   "cell_type": "code",
   "execution_count": null,
   "id": "ad3a988e",
   "metadata": {
    "scrolled": false
   },
   "outputs": [],
   "source": [
    "gamma_data"
   ]
  },
  {
   "cell_type": "code",
   "execution_count": null,
   "id": "1d2b1efe",
   "metadata": {
    "scrolled": true
   },
   "outputs": [],
   "source": [
    "background_data"
   ]
  },
  {
   "cell_type": "code",
   "execution_count": null,
   "id": "90114613",
   "metadata": {},
   "outputs": [],
   "source": [
    "# CHECK that we have the same pointing zenith values in both tables:\n",
    "assert np.alltrue(np.unique(gamma_data.ZD_deg) == np.unique(background_data.ZD_deg))\n",
    "\n",
    "# Available zeniths:\n",
    "zenith = np.unique(gamma_data.ZD_deg)\n",
    "print('Available zeniths:', zenith, '(degrees)')"
   ]
  },
  {
   "cell_type": "markdown",
   "id": "dc762a1a",
   "metadata": {},
   "source": [
    "## Select zenith bin"
   ]
  },
  {
   "cell_type": "code",
   "execution_count": null,
   "id": "a5a9386a",
   "metadata": {},
   "outputs": [],
   "source": [
    "# Choose the bins among those above. Just set the bin number (from 0)\n",
    "# Make sure you choose values which make sense for the declination of your source\n",
    "\n",
    "zd_bin = 2\n",
    "print('Selected ZD = ', zenith[zd_bin], 'degrees')\n",
    "\n",
    "# Cuts for tables:\n",
    "zd_selection_gamma = abs(gamma_data.ZD_deg - np.unique(gamma_data.ZD_deg)[zd_bin])<0.01\n",
    "zd_selection_backg = abs(background_data.ZD_deg - np.unique(background_data.ZD_deg)[zd_bin])<0.01"
   ]
  },
  {
   "cell_type": "markdown",
   "id": "8d1c2dcf",
   "metadata": {},
   "source": [
    "## ON to OFF exposure"
   ]
  },
  {
   "cell_type": "code",
   "execution_count": null,
   "id": "0c58505b",
   "metadata": {},
   "outputs": [],
   "source": [
    "# Ratio of ON to OFF exposure (Li & Ma's \"alpha\")\n",
    "# For standard wobble offset (0.4 deg) reasonable values are alpha=0.333 (3 off regions) above 0.2 TeV, \n",
    "# and alpha=1 below 0.2 TeV.  For testing sensitivity with the standard definition, set alpha=0.2\n",
    "\n",
    "alpha = 1 # 0.333  # 1"
   ]
  },
  {
   "cell_type": "markdown",
   "id": "aaf2cba7",
   "metadata": {},
   "source": [
    "## Observation time"
   ]
  },
  {
   "cell_type": "code",
   "execution_count": null,
   "id": "7d8d3a2e",
   "metadata": {},
   "outputs": [],
   "source": [
    "effective_obs_time = 34 * u.h "
   ]
  },
  {
   "cell_type": "markdown",
   "id": "d662546b",
   "metadata": {},
   "source": [
    "## Source redshift"
   ]
  },
  {
   "cell_type": "code",
   "execution_count": null,
   "id": "ea9bca3c",
   "metadata": {},
   "outputs": [],
   "source": [
    "\n",
    "redshift = 0\n",
    "\n",
    "# We will apply the Dominguez EBL model to simulate the absorption\n",
    "\n",
    "\n",
    "try:\n",
    "    os.environ['GAMMAPY_DATA']\n",
    "except:\n",
    "    # SET HERE THE GAMMAPY_DATA ENV VARIABLE IN CASE IT IS NOT SET\n",
    "    # YOU MUST SET THE PATH TO THE CORRESPONDING DIRECTORY IN THE CONDA ENVIRONMENT YOU ARE USING:\n",
    "    os.environ['GAMMAPY_DATA'] = '/fefs/aswg/workspace/abelardo.moralejo/miniconda3/envs/lst-dev/lib/python3.11/site-packages/gammapy/gammapy-datasets/1.1'\n",
    "\n",
    "dominguez = EBLAbsorptionNormSpectralModel.read_builtin(\"dominguez\", redshift=redshift)"
   ]
  },
  {
   "cell_type": "markdown",
   "id": "e5766b4e",
   "metadata": {},
   "source": [
    "## Source (intrinsic) spectrum "
   ]
  },
  {
   "cell_type": "code",
   "execution_count": null,
   "id": "e24f72ce",
   "metadata": {},
   "outputs": [],
   "source": [
    "# Set here the simulated intrinsic spectrum (must take as argument an astropy quantity with energy units)\n",
    "\n",
    "# Crab Nebula:\n",
    "def intrinsic_dFdE(E):\n",
    "    return CRAB_MAGIC_JHEAP2015(E)  # Crab Nebula, MAGIC log-parabola\n",
    "\n",
    "# def intrinsic_dFdE(E):\n",
    "#     return PowerLaw(normalization=5e-8 / (u.TeV * u.cm**2 * u.s), \n",
    "#                     index=-2.0, \n",
    "#                     e_ref=0.1 * u.TeV)(E)\n",
    "\n",
    "# def intrinsic_dFdE(E):\n",
    "#     return LogParabola(normalization=5e-8 / (u.TeV * u.cm**2 * u.s), \n",
    "#                     a=-2.0, b =-0.2, \n",
    "#                     e_ref=0.1 * u.TeV)(E)"
   ]
  },
  {
   "cell_type": "code",
   "execution_count": null,
   "id": "014476b0",
   "metadata": {},
   "outputs": [],
   "source": [
    "# After EBL absorption:\n",
    "def dFdE(E):\n",
    "    return intrinsic_dFdE(E) * dominguez.evaluate(E, redshift, 1)"
   ]
  },
  {
   "cell_type": "markdown",
   "id": "8613146f",
   "metadata": {},
   "source": [
    "## END of user settings\n",
    "#"
   ]
  },
  {
   "cell_type": "code",
   "execution_count": null,
   "id": "80627c34",
   "metadata": {},
   "outputs": [],
   "source": [
    "# Other settings (change only for tests)\n",
    "\n",
    "min_signal_to_backg_ratio = 0.01     # safeguard against systematics\n",
    "min_signi_in_flux_point = 3          # minimum significance to display a flux point\n",
    "integral_significance_threshold = 5  # \"Detection significance\"\n",
    "\n",
    "min_Aeff = 100 *u.m**2         # Minimum required Aeff in Etrue bins. \n",
    "                               # Just to avoid Etrue bins with little MC stats, hence noisy!"
   ]
  },
  {
   "cell_type": "code",
   "execution_count": null,
   "id": "24e8394c",
   "metadata": {},
   "outputs": [],
   "source": [
    "erecobins = background_data[zd_selection_backg].Ereco_min_TeV.to_numpy()\n",
    "erecobins = np.append(erecobins, background_data[zd_selection_backg].Ereco_max_TeV.to_numpy()[-1])"
   ]
  },
  {
   "cell_type": "code",
   "execution_count": null,
   "id": "056ea33b",
   "metadata": {},
   "outputs": [],
   "source": [
    "etruebins = gamma_data[zd_selection_gamma].Etrue_min_TeV.to_numpy()\n",
    "etruebins = np.append(etruebins, gamma_data[zd_selection_gamma].Etrue_max_TeV.to_numpy()[-1])\n",
    "\n",
    "effective_area = gamma_data.Aeff_m2[zd_selection_gamma].to_numpy()*u.m**2\n",
    "\n",
    "# Model to characterize the energy migration matrix (gauss or moyal):\n",
    "emig_model = gamma_data[zd_selection_gamma].emig_model.to_numpy()\n",
    "\n",
    "# Parameters to characterize the energy migration matrix:\n",
    "loc = gamma_data[zd_selection_gamma].emig_mu_loc.to_numpy()\n",
    "scale = gamma_data[zd_selection_gamma].emig_mu_scale.to_numpy()\n",
    "\n",
    "\n",
    "# Now we extrapolate Aeff to higher Etrue by using the same value of the highest available energy:\n",
    "# (it is better than having zeros!) We also assume the same E-migration\n",
    "factor = etruebins[-1]/etruebins[-2] # step in energy in each bin\n",
    "while etruebins[-1] < 80: # extend to 80 TeV at least\n",
    "    etruebins = np.append(etruebins, etruebins[-1]*factor)\n",
    "    effective_area = np.append(effective_area, effective_area[-1])\n",
    "    emig_model = np.append(emig_model, emig_model[-1])\n",
    "    loc = np.append(loc, loc[-1])\n",
    "    scale = np.append(scale, scale[-1])"
   ]
  },
  {
   "cell_type": "code",
   "execution_count": null,
   "id": "1b79d5b2",
   "metadata": {},
   "outputs": [],
   "source": [
    "etruebincenters = (etruebins[:-1]*etruebins[1:])**0.5\n",
    "erecobincenters = (erecobins[:-1]*erecobins[1:])**0.5"
   ]
  },
  {
   "cell_type": "code",
   "execution_count": null,
   "id": "2038bb5b",
   "metadata": {},
   "outputs": [],
   "source": [
    "# Exclude too low eff. areas (in general, unreliable due to low MC stats)\n",
    "\n",
    "effective_area[effective_area<min_Aeff] = 0\n",
    "\n",
    "# Exclude also Ereco bins which have Ereco values below the first Etrue value with valid Aeff:\n",
    "ereco_mask = erecobincenters >= etruebincenters[np.where(effective_area>0)[0][0]]"
   ]
  },
  {
   "cell_type": "code",
   "execution_count": null,
   "id": "48a34458",
   "metadata": {},
   "outputs": [],
   "source": [
    "def integrate (dfde1, dfde2, e1, e2):\n",
    "    # We cannot let numpy deal with the units, sometimes rounding leads to wrong units in result!\n",
    "    # like TeV^(1e-15) :-D\n",
    "    # in power-law approximation:\n",
    "    gamma = np.log(dfde2/dfde1) / np.log(e2/e1)\n",
    "    e1tev = e1.to_value(u.TeV)\n",
    "    e2tev = e2.to_value(u.TeV)\n",
    "    \n",
    "    integral = dfde1.to_value(1/(u.TeV * u.cm**2 * u.s)) / (gamma+1) * e1tev**(-gamma) * (e2tev**(gamma+1) - e1tev**(gamma+1))\n",
    "    return integral # (1/u.s/u.cm**2)"
   ]
  },
  {
   "cell_type": "code",
   "execution_count": null,
   "id": "54b22527",
   "metadata": {},
   "outputs": [],
   "source": [
    "integrated_flux = []\n",
    "for etruemin, etruemax in zip(etruebins[:-1], etruebins[1:]):\n",
    "    integrated_flux.append(integrate(dFdE(etruemin*u.TeV),\n",
    "                                     dFdE(etruemax*u.TeV),\n",
    "                                     etruemin*u.TeV, \n",
    "                                     etruemax*u.TeV))\n",
    "integrated_flux = np.array(integrated_flux)\n",
    "\n",
    "# Too strong EBL absorption produces NaNs in high-E bins, jus trplace by 0's:\n",
    "integrated_flux[np.isnan(integrated_flux)] = 0\n",
    "    \n",
    "integrated_flux = np.array(integrated_flux) * 1/(u.s * u.cm**2)"
   ]
  },
  {
   "cell_type": "markdown",
   "id": "a0d668ca",
   "metadata": {},
   "source": [
    "## Effective area"
   ]
  },
  {
   "cell_type": "code",
   "execution_count": null,
   "id": "4eff20a0",
   "metadata": {},
   "outputs": [],
   "source": [
    "plt.figure(figsize=(8,4))\n",
    "plt.plot(etruebincenters, effective_area)\n",
    "plt.xscale('log')\n",
    "plt.yscale('log')\n",
    "plt.xlabel('Etrue (TeV)')\n",
    "plt.ylabel('Aeff (m2)')\n",
    "plt.grid()"
   ]
  },
  {
   "cell_type": "markdown",
   "id": "bb2fb8b7",
   "metadata": {},
   "source": [
    "## Background rate"
   ]
  },
  {
   "cell_type": "code",
   "execution_count": null,
   "id": "9c89f6e6",
   "metadata": {},
   "outputs": [],
   "source": [
    "plt.figure(figsize=(8,4))\n",
    "plt.plot(erecobincenters[ereco_mask], \n",
    "         background_data[zd_selection_backg].BckgRate_per_second.to_numpy()[ereco_mask])\n",
    "plt.xlabel('Ereco (TeV)')\n",
    "plt.ylabel('Background rate within theta cut\\n (events/s) in Ereco bins')\n",
    "plt.yscale('log')\n",
    "plt.xscale('log')\n",
    "plt.grid()"
   ]
  },
  {
   "cell_type": "code",
   "execution_count": null,
   "id": "5164274a",
   "metadata": {
    "scrolled": true
   },
   "outputs": [],
   "source": [
    "total_gamma_rate = (integrated_flux*effective_area).to(1/u.s)\n",
    "print(f'Total gamma rate after cuts: {total_gamma_rate.sum().to_value(1/u.s):.3f} events/s')"
   ]
  },
  {
   "cell_type": "code",
   "execution_count": null,
   "id": "6a415916",
   "metadata": {},
   "outputs": [],
   "source": [
    "# Number of realizations (random numbers taken from gaussian) for E-migration simulation \n",
    "num_realizations = 10000"
   ]
  },
  {
   "cell_type": "code",
   "execution_count": null,
   "id": "31415b87",
   "metadata": {},
   "outputs": [],
   "source": [
    "plt.figure(figsize=(8,4))\n",
    "\n",
    "total_bg_counts = effective_obs_time.to_value(u.s) * background_data[zd_selection_backg].BckgRate_per_second.to_numpy()\n",
    "total_signal_counts = np.zeros(zd_selection_backg.sum())\n",
    "\n",
    "for ietrue in range(len(etruebincenters)):\n",
    "    etrue = etruebincenters[ietrue]\n",
    "    \n",
    "    gamma_rate = total_gamma_rate[ietrue]\n",
    "\n",
    "    \n",
    "    if emig_model[ietrue] == 'gauss':\n",
    "        counts, _ = np.histogram(etrue*np.random.normal(loc[ietrue], scale[ietrue], num_realizations),\n",
    "                                 bins=erecobins)\n",
    "                  \n",
    "    elif emig_model[ietrue] == 'moyal':\n",
    "        counts, _ = np.histogram(etrue*moyal.rvs(loc[ietrue], scale[ietrue], num_realizations),\n",
    "                                 bins=erecobins)\n",
    "    else:\n",
    "        continue\n",
    "    \n",
    "\n",
    "    total_signal_counts += gamma_rate * effective_obs_time * counts / num_realizations\n",
    "    # print(gamma_rate * effective_obs_time * counts / num_realizations)\n",
    "\n",
    "    \n",
    "# Now set to zero values below the \"reliable minimum energy\":\n",
    "total_signal_counts[~ereco_mask] = 0\n",
    "total_bg_counts[~ereco_mask] = 0\n",
    "    \n",
    "plt.errorbar(0.5*(erecobins[:-1]+erecobins[1:]), total_signal_counts, total_signal_counts**0.5,\n",
    "             label='gammas')\n",
    "plt.errorbar(0.5*(erecobins[:-1]+erecobins[1:]), total_bg_counts, total_bg_counts**0.5,\n",
    "             label='Background')\n",
    "\n",
    "plt.xscale('log')\n",
    "plt.yscale('log')\n",
    "plt.legend()\n",
    "plt.xlabel('Ereco (TeV)')\n",
    "plt.ylabel('Number of events after cuts in Ereco bins')\n",
    "plt.grid()\n",
    "plt.ylim(0.1, 2*np.max(total_bg_counts))\n",
    "# plt.xlim(10, 80)"
   ]
  },
  {
   "cell_type": "code",
   "execution_count": null,
   "id": "b22d2e36",
   "metadata": {},
   "outputs": [],
   "source": [
    "significance = li_ma_significance(total_signal_counts+total_bg_counts,\n",
    "                                  total_bg_counts/alpha, alpha)\n",
    "\n",
    "# integrating from each Ereco to max Ereco\n",
    "integral_signal_counts = np.cumsum(total_signal_counts[::-1])[::-1]\n",
    "integral_bg_counts = np.cumsum(total_bg_counts[::-1])[::-1]\n",
    "\n",
    "integral_significance = li_ma_significance(integral_signal_counts+integral_bg_counts,\n",
    "                                           integral_bg_counts/alpha, alpha)"
   ]
  },
  {
   "cell_type": "markdown",
   "id": "d27e4dfc",
   "metadata": {},
   "source": [
    "## Signal to background ratio and significance in Ereco bins"
   ]
  },
  {
   "cell_type": "code",
   "execution_count": null,
   "id": "2a3d41c1",
   "metadata": {},
   "outputs": [],
   "source": [
    "signal_to_background_ratio = total_signal_counts / total_bg_counts"
   ]
  },
  {
   "cell_type": "code",
   "execution_count": null,
   "id": "9b5e3aa8",
   "metadata": {
    "scrolled": false
   },
   "outputs": [],
   "source": [
    "fig = plt.figure(figsize=(10,4))\n",
    "fig.add_subplot(1, 2, 1)\n",
    "plt.plot(erecobincenters, signal_to_background_ratio)\n",
    "plt.scatter(erecobincenters, signal_to_background_ratio)\n",
    "plt.grid()\n",
    "plt.xlabel('Ereco (TeV)')\n",
    "plt.ylabel('Signal / background ratio')\n",
    "plt.yscale('log')\n",
    "plt.xscale('log')\n",
    "\n",
    "fig.add_subplot(1, 2, 2)\n",
    "points_mask = ((signal_to_background_ratio >= min_signal_to_backg_ratio) &\n",
    "               (significance >= min_signi_in_flux_point))\n",
    "plt.scatter(erecobincenters[points_mask], significance[points_mask])\n",
    "\n",
    "plt.scatter(erecobincenters[~points_mask], significance[~points_mask], color='orange')\n",
    "\n",
    "plt.grid()\n",
    "plt.xlabel('Ereco (TeV)')\n",
    "plt.ylabel('Li & Ma significance')\n",
    "plt.xscale('log')"
   ]
  },
  {
   "cell_type": "markdown",
   "id": "ca520d68",
   "metadata": {},
   "source": [
    "## Integral significance (for Ereco>xx)"
   ]
  },
  {
   "cell_type": "code",
   "execution_count": null,
   "id": "0e1df16e",
   "metadata": {},
   "outputs": [],
   "source": [
    "plt.figure(figsize=(8,4))\n",
    "mask = integral_significance >= integral_significance_threshold\n",
    "plt.scatter(erecobins[:-1][mask], integral_significance[mask], \n",
    "            label=f'Significance >= {integral_significance_threshold} sigma')\n",
    "plt.scatter(erecobins[:-1][~mask], integral_significance[~mask],\n",
    "            label=f'Significance < {integral_significance_threshold} sigma')\n",
    "plt.grid()\n",
    "plt.xlabel('Minimum Ereco (TeV)')\n",
    "plt.ylabel('Li & Ma integral significance')\n",
    "plt.xscale('log')\n",
    "\n",
    "if mask.sum() > 0:\n",
    "    print('*************************')\n",
    "    print('Detection successful! :-D')\n",
    "else:\n",
    "    print('****************')\n",
    "    print('No detection :-C')\n",
    "plt.legend()\n",
    "plt.show()"
   ]
  },
  {
   "cell_type": "markdown",
   "id": "04cd5759",
   "metadata": {},
   "source": [
    "## Simulated SED from observation (Asimov dataset)\n",
    "The fluxes & uncertainties are computed in the Ereco bins, and shamelessly placed at the same value in Etrue, and at the expected flux level. \n",
    "In reality an energy unfolding process is needed... what is shown below is just a an estimate of what the spectrum will look like - but pretty accurate for the purpose of observation planning."
   ]
  },
  {
   "cell_type": "code",
   "execution_count": null,
   "id": "64661959",
   "metadata": {},
   "outputs": [],
   "source": [
    "noff = total_bg_counts / alpha\n",
    "non = total_signal_counts + total_bg_counts\n",
    "# excess = non - alpha * noff (= total_signal_counts in Asimov dataset)\n",
    "excess_error = (non + alpha**2 * noff)**0.5\n",
    "relative_excess_error = excess_error / total_signal_counts"
   ]
  },
  {
   "cell_type": "code",
   "execution_count": null,
   "id": "4d56445f",
   "metadata": {},
   "outputs": [],
   "source": [
    "plt.figure(figsize=(8,4))\n",
    "SED = (erecobincenters*u.TeV)**2 * dFdE(erecobincenters*u.TeV)\n",
    "SED_error = SED*relative_excess_error\n",
    "intrinsic_SED = (erecobincenters*u.TeV)**2 * intrinsic_dFdE(erecobincenters*u.TeV)\n",
    "\n",
    "if redshift > 0:\n",
    "    plt.plot(erecobincenters*u.TeV, intrinsic_SED, '--', color='lightgrey', label='intrinsic')\n",
    "plt.plot(erecobincenters*u.TeV, SED, '--')\n",
    "\n",
    "plt.errorbar(erecobincenters[points_mask]*u.TeV, SED[points_mask], \n",
    "             yerr=SED_error[points_mask], fmt='o', markersize=2, label='Observed')\n",
    "\n",
    "plt.yscale('log')\n",
    "plt.xscale('log')\n",
    "plt.xlabel('Energy')\n",
    "plt.ylabel(f'SED ({SED.unit})')\n",
    "plt.ylim(SED[points_mask].min().value*0.2, SED[points_mask].max().value*5)\n",
    "plt.legend()\n",
    "plt.grid()"
   ]
  }
 ],
 "metadata": {
  "kernelspec": {
   "display_name": "Python 3 (ipykernel)",
   "language": "python",
   "name": "python3"
  },
  "language_info": {
   "codemirror_mode": {
    "name": "ipython",
    "version": 3
   },
   "file_extension": ".py",
   "mimetype": "text/x-python",
   "name": "python",
   "nbconvert_exporter": "python",
   "pygments_lexer": "ipython3",
   "version": "3.11.9"
  }
 },
 "nbformat": 4,
 "nbformat_minor": 5
}
